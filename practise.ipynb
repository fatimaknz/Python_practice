{
 "cells": [
  {
   "cell_type": "code",
   "execution_count": null,
   "id": "conceptual-salmon",
   "metadata": {},
   "outputs": [],
   "source": [
    "alpha =\"abcdef\"\n",
    "#key = 1\n",
    "new = alpha[-1] + alpha[:-1]\n",
    "print(list(new))\n",
    "new1 = new[-2:] + new[:-2]\n",
    "print(list(new1))"
   ]
  },
  {
   "cell_type": "code",
   "execution_count": null,
   "id": "coupled-crime",
   "metadata": {},
   "outputs": [],
   "source": [
    "s = 'abcdef'\n",
    "for r in range(7):\n",
    "    print(list(s[r:] + s[:r]))"
   ]
  },
  {
   "cell_type": "markdown",
   "id": "turned-spokesman",
   "metadata": {},
   "source": [
    "### Use for loop to generate a list of numbers from 9 to 50 divisible by 2."
   ]
  },
  {
   "cell_type": "code",
   "execution_count": 3,
   "id": "civil-experiment",
   "metadata": {},
   "outputs": [
    {
     "name": "stdout",
     "output_type": "stream",
     "text": [
      "10\n",
      "12\n",
      "14\n",
      "16\n",
      "18\n",
      "20\n",
      "22\n",
      "24\n",
      "26\n",
      "28\n",
      "30\n",
      "32\n",
      "34\n",
      "36\n",
      "38\n",
      "40\n",
      "42\n",
      "44\n",
      "46\n",
      "48\n",
      "50\n"
     ]
    }
   ],
   "source": [
    "# for i in range(9,51):\n",
    "#     if i % 2 == 0:\n",
    "#         print(i)\n",
    "        \n",
    "        #-----\n",
    "for i in range(10, 52, 2):\n",
    "    print(i)"
   ]
  },
  {
   "cell_type": "code",
   "execution_count": 4,
   "id": "technical-window",
   "metadata": {},
   "outputs": [
    {
     "name": "stdout",
     "output_type": "stream",
     "text": [
      "Reverse numbers using for loop\n",
      "5\n",
      "4\n",
      "3\n",
      "2\n",
      "1\n",
      "0\n"
     ]
    }
   ],
   "source": [
    "print(\"Reverse numbers using for loop\")\n",
    "num = 5\n",
    "# start = 5\n",
    "# stop = -1\n",
    "# step = -1\n",
    "for num in (range(num, -1, -1)):\n",
    "    print(num)"
   ]
  },
  {
   "cell_type": "code",
   "execution_count": 12,
   "id": "closed-controversy",
   "metadata": {},
   "outputs": [
    {
     "name": "stdout",
     "output_type": "stream",
     "text": [
      "enter upto what number u need table of: 20\n",
      "Table of: 1\n",
      "1 2 3 4 5 6 7 8 9 10 \n",
      "Table of: 2\n",
      "2 4 6 8 10 12 14 16 18 20 \n",
      "Table of: 3\n",
      "3 6 9 12 15 18 21 24 27 30 \n",
      "Table of: 4\n",
      "4 8 12 16 20 24 28 32 36 40 \n",
      "Table of: 5\n",
      "5 10 15 20 25 30 35 40 45 50 \n",
      "Table of: 6\n",
      "6 12 18 24 30 36 42 48 54 60 \n",
      "Table of: 7\n",
      "7 14 21 28 35 42 49 56 63 70 \n",
      "Table of: 8\n",
      "8 16 24 32 40 48 56 64 72 80 \n",
      "Table of: 9\n",
      "9 18 27 36 45 54 63 72 81 90 \n",
      "Table of: 10\n",
      "10 20 30 40 50 60 70 80 90 100 \n",
      "Table of: 11\n",
      "11 22 33 44 55 66 77 88 99 110 \n",
      "Table of: 12\n",
      "12 24 36 48 60 72 84 96 108 120 \n",
      "Table of: 13\n",
      "13 26 39 52 65 78 91 104 117 130 \n",
      "Table of: 14\n",
      "14 28 42 56 70 84 98 112 126 140 \n",
      "Table of: 15\n",
      "15 30 45 60 75 90 105 120 135 150 \n",
      "Table of: 16\n",
      "16 32 48 64 80 96 112 128 144 160 \n",
      "Table of: 17\n",
      "17 34 51 68 85 102 119 136 153 170 \n",
      "Table of: 18\n",
      "18 36 54 72 90 108 126 144 162 180 \n",
      "Table of: 19\n",
      "19 38 57 76 95 114 133 152 171 190 \n"
     ]
    }
   ],
   "source": [
    "n = int(input(\"enter upto what number u need table of: \"))\n",
    "for i in range(1,n):\n",
    "    print(\"Table of:\", i)\n",
    "    count = 1\n",
    "    while count < 11:\n",
    "        print(i*count,  end = \" \")\n",
    "        count+=1\n",
    "    print( )\n",
    "        "
   ]
  },
  {
   "cell_type": "code",
   "execution_count": 1,
   "id": "amino-bikini",
   "metadata": {},
   "outputs": [
    {
     "name": "stdout",
     "output_type": "stream",
     "text": [
      "0\n",
      "1\n",
      "2\n",
      "2\n"
     ]
    }
   ],
   "source": [
    "a  =[0,1,2,3]\n",
    "for a[-1] in a:\n",
    "    print(a[-1])"
   ]
  },
  {
   "cell_type": "code",
   "execution_count": 5,
   "id": "coupled-branch",
   "metadata": {},
   "outputs": [
    {
     "name": "stdout",
     "output_type": "stream",
     "text": [
      "[1, 2, 3, 0]\n"
     ]
    }
   ],
   "source": [
    "a=[1,2,3,4]\n",
    "a[-1] = 1\n",
    "print(a)"
   ]
  },
  {
   "cell_type": "code",
   "execution_count": 5,
   "id": "cross-elimination",
   "metadata": {},
   "outputs": [
    {
     "name": "stdout",
     "output_type": "stream",
     "text": [
      "5\n"
     ]
    }
   ],
   "source": [
    "a=8\n",
    "b=5\n",
    "print(a and b)"
   ]
  },
  {
   "cell_type": "code",
   "execution_count": 11,
   "id": "behind-demographic",
   "metadata": {},
   "outputs": [
    {
     "name": "stdout",
     "output_type": "stream",
     "text": [
      "13\n"
     ]
    }
   ],
   "source": [
    "a= 5\n",
    "b=8\n",
    "print(a|b)"
   ]
  },
  {
   "cell_type": "code",
   "execution_count": 8,
   "id": "median-april",
   "metadata": {},
   "outputs": [
    {
     "name": "stdout",
     "output_type": "stream",
     "text": [
      "256\n"
     ]
    }
   ],
   "source": [
    "print(2**8)"
   ]
  },
  {
   "cell_type": "code",
   "execution_count": null,
   "id": "developed-positive",
   "metadata": {},
   "outputs": [],
   "source": []
  }
 ],
 "metadata": {
  "kernelspec": {
   "display_name": "Python 3",
   "language": "python",
   "name": "python3"
  },
  "language_info": {
   "codemirror_mode": {
    "name": "ipython",
    "version": 3
   },
   "file_extension": ".py",
   "mimetype": "text/x-python",
   "name": "python",
   "nbconvert_exporter": "python",
   "pygments_lexer": "ipython3",
   "version": "3.7.4"
  }
 },
 "nbformat": 4,
 "nbformat_minor": 5
}
