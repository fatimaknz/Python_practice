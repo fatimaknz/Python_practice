{
 "cells": [
  {
   "cell_type": "markdown",
   "id": "prescription-convenience",
   "metadata": {},
   "source": [
    "## 1.To find the duplicate characters in a given string."
   ]
  },
  {
   "cell_type": "code",
   "execution_count": 45,
   "id": "theoretical-problem",
   "metadata": {},
   "outputs": [
    {
     "name": "stdout",
     "output_type": "stream",
     "text": [
      "['d', 'e', 'f']\n"
     ]
    }
   ],
   "source": [
    "# Mehtod 1\n",
    "strg= \"ABCdD EFeFF\"\n",
    "Mystr = strg.lower()\n",
    "dup_ele = []\n",
    "for i in Mystr:\n",
    "    if Mystr.count(i)>1:\n",
    "        if i not in dup_ele:\n",
    "            dup_ele.append(i)\n",
    "print(dup_ele)"
   ]
  },
  {
   "cell_type": "code",
   "execution_count": 40,
   "id": "mechanical-press",
   "metadata": {},
   "outputs": [
    {
     "name": "stdout",
     "output_type": "stream",
     "text": [
      "m 2\n",
      "m 2\n"
     ]
    }
   ],
   "source": [
    "# Mehtod 2\n",
    "\n",
    "strg1 = \"Mumbai\"\n",
    "Mystr = strg1.lower()\n",
    "for i in Mystr:\n",
    "    co = Mystr.count(i)\n",
    "    if co >1:\n",
    "        print(i,co)\n",
    "\n"
   ]
  },
  {
   "cell_type": "markdown",
   "id": "extra-ceramic",
   "metadata": {},
   "source": [
    "## 2.To check whether a given string is a palindrome."
   ]
  },
  {
   "cell_type": "code",
   "execution_count": 2,
   "id": "intellectual-sculpture",
   "metadata": {},
   "outputs": [
    {
     "name": "stdout",
     "output_type": "stream",
     "text": [
      "Enter String: abdba\n",
      "abdba  is palindrome\n"
     ]
    }
   ],
   "source": [
    "S = str(input(\"Enter String: \"))\n",
    "if (S == (S[::-1])): #-----------or -------------  if(S==(S[-1::-1]))\n",
    "    print(S,\" is palindrome\")\n",
    "else:\n",
    "     print(S,\" is not palindrome\")"
   ]
  },
  {
   "cell_type": "markdown",
   "id": "pleased-drilling",
   "metadata": {},
   "source": [
    "## 3.To capitalize the first character in a given sentence."
   ]
  },
  {
   "cell_type": "code",
   "execution_count": 3,
   "id": "exterior-technician",
   "metadata": {},
   "outputs": [
    {
     "name": "stdout",
     "output_type": "stream",
     "text": [
      "Enter String: python is a programming language\n",
      "Python is a programming language\n"
     ]
    }
   ],
   "source": [
    "# Method 1\n",
    "S = str(input(\"Enter String: \"))\n",
    "up = S[0].upper()\n",
    "print(up + S[1:])"
   ]
  },
  {
   "cell_type": "code",
   "execution_count": 4,
   "id": "based-participant",
   "metadata": {},
   "outputs": [
    {
     "name": "stdout",
     "output_type": "stream",
     "text": [
      "Python is a programming language\n"
     ]
    }
   ],
   "source": [
    "# Method 2\n",
    "print(S.capitalize())"
   ]
  },
  {
   "cell_type": "markdown",
   "id": "sapphire-digit",
   "metadata": {},
   "source": [
    "## 4.Program to convert String to a List."
   ]
  },
  {
   "cell_type": "code",
   "execution_count": 5,
   "id": "threaded-centre",
   "metadata": {},
   "outputs": [
    {
     "name": "stdout",
     "output_type": "stream",
     "text": [
      "['p', 'y', 't', 'h', 'o', 'n', ' ', 'i', 's', ' ', 'a', ' ', 'p', 'r', 'o', 'g', 'r', 'a', 'm', 'm', 'i', 'n', 'g', ' ', 'l', 'a', 'n', 'g', 'u', 'a', 'g', 'e']\n"
     ]
    }
   ],
   "source": [
    "# converting each alphabets into list\n",
    "print(list(S))"
   ]
  },
  {
   "cell_type": "code",
   "execution_count": 6,
   "id": "differential-province",
   "metadata": {},
   "outputs": [
    {
     "name": "stdout",
     "output_type": "stream",
     "text": [
      "['python', 'is', 'a', 'programming', 'language']\n"
     ]
    }
   ],
   "source": [
    "# converting each word into list\n",
    "print(S.split())"
   ]
  },
  {
   "cell_type": "markdown",
   "id": "simple-steel",
   "metadata": {},
   "source": [
    "## 5.To sort alphabetically the words in a given sentence."
   ]
  },
  {
   "cell_type": "code",
   "execution_count": 7,
   "id": "elder-calendar",
   "metadata": {},
   "outputs": [
    {
     "data": {
      "text/plain": [
       "['a', 'is', 'language', 'programming', 'python']"
      ]
     },
     "execution_count": 7,
     "metadata": {},
     "output_type": "execute_result"
    }
   ],
   "source": [
    "words = S.split()\n",
    "words.sort()\n",
    "words"
   ]
  },
  {
   "cell_type": "markdown",
   "id": "cosmetic-mitchell",
   "metadata": {},
   "source": [
    "## 6. To demonstrate any 10 function(method) of string class."
   ]
  },
  {
   "cell_type": "code",
   "execution_count": 8,
   "id": "moving-contest",
   "metadata": {},
   "outputs": [
    {
     "name": "stdout",
     "output_type": "stream",
     "text": [
      "['python', 'is', 'an', 'interpreted,', 'object-oriented,', 'high-level', 'programming', 'language']\n",
      "python is an interpreted, oop, high-level programming language\n",
      "PYTHON IS AN INTERPRETED, OBJECT-ORIENTED, HIGH-LEVEL PROGRAMMING LANGUAGE\n",
      "python is an interpreted, object-oriented, high-level programming language\n",
      "python is an interpreted, object-oriented, high-level programming language\n",
      "10\n",
      "True\n",
      "Python is an interpreted, object-oriented, high-level programming language\n",
      "4\n",
      "Python Is An Interpreted, Object-Oriented, High-Level Programming Language\n"
     ]
    }
   ],
   "source": [
    "str1 = \"python is an interpreted, object-oriented, high-level programming language\"\n",
    "print(str1.split())\n",
    "print(str1.replace('object-oriented','oop'))\n",
    "print(str1.upper())\n",
    "print(str1.lower())\n",
    "print(str1.casefold())\n",
    "print(str1.find('an'))\n",
    "print(str1.endswith('e'))\n",
    "print(str1.capitalize())\n",
    "print(str1.count('a'))\n",
    "print(str1.title())"
   ]
  },
  {
   "cell_type": "markdown",
   "id": "civil-cruise",
   "metadata": {},
   "source": [
    "## 7. To count no. of vowels in a given program."
   ]
  },
  {
   "cell_type": "code",
   "execution_count": 27,
   "id": "champion-lover",
   "metadata": {},
   "outputs": [
    {
     "name": "stdout",
     "output_type": "stream",
     "text": [
      "6\n"
     ]
    }
   ],
   "source": [
    "str3 = \"My name is Fatima\"\n",
    "vowels = ['a','e','i','o','u']\n",
    "str3.casefold()\n",
    "count = 0\n",
    "for i in str3:\n",
    "    if i in vowels:\n",
    "        count+= 1\n",
    "print(count)\n",
    "\n",
    "#  -----Or-------- #\n",
    "\n",
    "#count = [i for i in str3 if i in vowels]\n",
    "#print(len(count))\n",
    "    "
   ]
  },
  {
   "cell_type": "markdown",
   "id": "natural-explosion",
   "metadata": {},
   "source": [
    "## 8. To implement a Caesar cipher in python"
   ]
  },
  {
   "cell_type": "code",
   "execution_count": 3,
   "id": "innocent-queensland",
   "metadata": {},
   "outputs": [
    {
     "name": "stdout",
     "output_type": "stream",
     "text": [
      "Enter the message to encrypt: hello world\n",
      "Enter the number of shift: 5\n",
      "Encrypted message: mjqqteatwqi\n",
      "Decrypted message: hello world\n"
     ]
    }
   ],
   "source": [
    "alphabets=\"abcdefghijklmnopqrstuvwxyz \"              # Predefined data to update the message\n",
    "message=(input(\"Enter the message to encrypt: \").lower())    # Ask the user to enter the message\n",
    "encrypt,decrypt=\"\",\"\"                               # initialize the empty string to save the encryption and decryption message\n",
    "key=int(input(\"Enter the number of shift: \"))\n",
    "\n",
    "#Encryption\n",
    "for letter in message:\n",
    "    new_position=(alphabets.find(letter)+key)%len(alphabets)\n",
    "    encrypt+=alphabets[new_position]\n",
    "print(\"Encrypted message:\",encrypt)\n",
    "\n",
    "#Decryption\n",
    "for letter in encrypt:\n",
    "    new_position=(alphabets.find(letter)-key)%len(alphabets)\n",
    "    decrypt+=alphabets[new_position]\n",
    "print(\"Decrypted message:\",decrypt)\n"
   ]
  },
  {
   "cell_type": "markdown",
   "id": "classical-insert",
   "metadata": {},
   "source": [
    "## 9. To demonstrate string slice"
   ]
  },
  {
   "cell_type": "code",
   "execution_count": 9,
   "id": "roman-october",
   "metadata": {},
   "outputs": [
    {
     "name": "stdout",
     "output_type": "stream",
     "text": [
      "Python is an interpreted, object-oriented, high-level programming language\n",
      "to s\n",
      "Python is an interpreted, object-oriented, high-level programming lan\n",
      "gunlgim\n",
      "egaugnal gnimmargorp level-hgih ,detneiro-tcejbo ,deterpretni na si nohtyP\n"
     ]
    }
   ],
   "source": [
    "txt = \"Python is an interpreted, object-oriented, high-level programming language\"\n",
    "print(txt[:])                  #print every letters\n",
    "print(txt[2:10:2])             #starts from index 2 till 10(exclude 10th) with step of 2\n",
    "print(txt[:-5])                #starts from index 0 till -5\n",
    "print(txt[-2:-15:-2])            #starts from index -2 till -15(exclude -15th) with step of -2\n",
    "print(txt[::-1])                 #reverse string"
   ]
  },
  {
   "cell_type": "markdown",
   "id": "incorporate-defeat",
   "metadata": {},
   "source": [
    "## 10. To check substring is Present in a Given String"
   ]
  },
  {
   "cell_type": "code",
   "execution_count": 2,
   "id": "horizontal-taiwan",
   "metadata": {},
   "outputs": [
    {
     "data": {
      "text/plain": [
       "True"
      ]
     },
     "execution_count": 2,
     "metadata": {},
     "output_type": "execute_result"
    }
   ],
   "source": [
    "# Method 1\n",
    "text = \"Nothing is impossible\"\n",
    "subs = \"possible\"\n",
    "subs in text"
   ]
  },
  {
   "cell_type": "code",
   "execution_count": 9,
   "id": "worldwide-replica",
   "metadata": {},
   "outputs": [
    {
     "name": "stdout",
     "output_type": "stream",
     "text": [
      "13\n",
      "-1\n"
     ]
    }
   ],
   "source": [
    "# Mehtod 2 : Returns the start index of the substring\n",
    "f1 = text.find(\"possible\")\n",
    "print(f1)\n",
    "f2 = text.find(\"not\")\n",
    "print(f2)"
   ]
  },
  {
   "cell_type": "code",
   "execution_count": 7,
   "id": "quarterly-realtor",
   "metadata": {},
   "outputs": [
    {
     "name": "stdout",
     "output_type": "stream",
     "text": [
      " yes possible is present\n"
     ]
    }
   ],
   "source": [
    "def check(string,substring):\n",
    "    if string.find(substring)==-1:\n",
    "        print(f\" {substring} is not present\")\n",
    "    else:\n",
    "        print(f\" yes {substring} is present\")\n",
    "check(\"Nothing is impossible\",\"possible\")"
   ]
  },
  {
   "cell_type": "code",
   "execution_count": null,
   "id": "stuck-helicopter",
   "metadata": {},
   "outputs": [],
   "source": []
  }
 ],
 "metadata": {
  "kernelspec": {
   "display_name": "Python 3",
   "language": "python",
   "name": "python3"
  },
  "language_info": {
   "codemirror_mode": {
    "name": "ipython",
    "version": 3
   },
   "file_extension": ".py",
   "mimetype": "text/x-python",
   "name": "python",
   "nbconvert_exporter": "python",
   "pygments_lexer": "ipython3",
   "version": "3.7.4"
  }
 },
 "nbformat": 4,
 "nbformat_minor": 5
}
