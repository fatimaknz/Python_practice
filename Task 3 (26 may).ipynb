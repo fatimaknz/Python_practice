{
 "cells": [
  {
   "cell_type": "markdown",
   "id": "fatty-literacy",
   "metadata": {},
   "source": [
    "# List"
   ]
  },
  {
   "cell_type": "markdown",
   "id": "tender-rider",
   "metadata": {},
   "source": [
    "## 1.To create 5 different list using list comprehension method."
   ]
  },
  {
   "cell_type": "code",
   "execution_count": 11,
   "id": "southern-lying",
   "metadata": {},
   "outputs": [
    {
     "name": "stdout",
     "output_type": "stream",
     "text": [
      "Enter no of elements: 10\n",
      "numbers with skip of 3:  [1, 4, 7, 10]\n",
      "Squares: [1, 4, 9, 16, 25, 36, 49, 64, 81, 100]\n",
      "Cubes:  [1, 8, 27, 64, 125, 216, 343, 512, 729, 1000]\n",
      "Even no.:  [2, 4, 6, 8, 10]\n",
      "Odd no.:  [1, 3, 5, 7, 9]\n"
     ]
    }
   ],
   "source": [
    "n = int(input(\"Enter no of elements: \"))\n",
    "\n",
    "numbers = [x for x in range(1,n+1,3)]\n",
    "print(\"numbers with skip of 3: \", numbers)\n",
    "\n",
    "square = [x*x for x in range(1,n+1)]\n",
    "print(\"Squares:\", square)\n",
    "\n",
    "cube = [x**3 for x in range(1,n+1)]\n",
    "print(\"Cubes: \", cube)\n",
    "\n",
    "even = [x for x in range(1,n+1) if x % 2==0]\n",
    "print(\"Even no.: \", even)\n",
    "\n",
    "odd = [x for x in range(1,n+1) if x % 2!=0]\n",
    "print(\"Odd no.: \", odd)\n",
    "\n"
   ]
  },
  {
   "cell_type": "markdown",
   "id": "widespread-advancement",
   "metadata": {},
   "source": [
    "## 2.Create list , add random 25 numbers in list and print largest number of list."
   ]
  },
  {
   "cell_type": "code",
   "execution_count": 7,
   "id": "bulgarian-dinner",
   "metadata": {},
   "outputs": [
    {
     "name": "stdout",
     "output_type": "stream",
     "text": [
      "10\n",
      "70\n",
      "70\n",
      "96\n"
     ]
    }
   ],
   "source": [
    "# import random\n",
    "# mylist = []\n",
    "# for i in range(0,25):\n",
    "#     n = random.randint(1,100)\n",
    "#     mylist.append(n)\n",
    "# print(mylist)\n",
    "# print(\"Maximum number: \", max(mylist))\n",
    "\n",
    "\n",
    "#-----------or---------------\n",
    "\n",
    "lst = [10,70,29,96]\n",
    "maxi= lst[0]\n",
    "for i in lst:\n",
    "    if i>maxi:\n",
    "        maxi = i\n",
    "print(maxi)"
   ]
  },
  {
   "cell_type": "markdown",
   "id": "hungarian-landscape",
   "metadata": {},
   "source": [
    "## 3.To check whether a given number is present in list or not?"
   ]
  },
  {
   "cell_type": "code",
   "execution_count": 19,
   "id": "wooden-nickname",
   "metadata": {},
   "outputs": [
    {
     "name": "stdout",
     "output_type": "stream",
     "text": [
      "Enter number you want to search between 1 to 100 44\n"
     ]
    },
    {
     "data": {
      "text/plain": [
       "True"
      ]
     },
     "execution_count": 19,
     "metadata": {},
     "output_type": "execute_result"
    }
   ],
   "source": [
    "num  = int(input(\"Enter number you want to search between 1 to 100 \"))\n",
    "num in mylist"
   ]
  },
  {
   "cell_type": "markdown",
   "id": "explicit-tobacco",
   "metadata": {},
   "source": [
    "## 4.To demonstrate any 10 methods of List"
   ]
  },
  {
   "cell_type": "code",
   "execution_count": 54,
   "id": "rough-language",
   "metadata": {},
   "outputs": [
    {
     "name": "stdout",
     "output_type": "stream",
     "text": [
      "[1, 2, 3, 4, 5, 6, 7, 8, 9, 10, 1, 2, 2, 4, 5, 15]\n",
      "[1, 2, 3, 4, 5, 6, 7, 8, 9, 10, 1, 2, 2, 4, 5, 15, ['A', 'B', 'C', 'D']]\n",
      "[['A', 'B', 'C', 'D'], 15, 5, 4, 2, 2, 1, 10, 9, 8, 7, 6, 5, 4, 3, 2, 1]\n"
     ]
    },
    {
     "data": {
      "text/plain": [
       "1"
      ]
     },
     "execution_count": 54,
     "metadata": {},
     "output_type": "execute_result"
    }
   ],
   "source": [
    "lst = [1,2,3,4,5,6,7,8,9,10,1,2,2,4,5,15]\n",
    "\n",
    "l = lst.copy()\n",
    "print(l)\n",
    "\n",
    "lst.append(['A','B','C','D'])\n",
    "print(lst)\n",
    "\n",
    "lst.reverse()\n",
    "print(lst)\n",
    "\n",
    "lst.count(10)\n",
    "\n",
    "length = len(lst)\n",
    "print(length)\n",
    "\n",
    "lst.index(10)\n",
    "\n",
    "lst.insert(7,45)\n",
    "print(lst)\n",
    "\n",
    "lst.remove(15)\n",
    "print(lst)\n",
    "\n",
    "lst.pop()\n",
    "\n",
    "lst.clear()\n",
    "print(lst)\n"
   ]
  },
  {
   "cell_type": "markdown",
   "id": "reduced-pierre",
   "metadata": {},
   "source": [
    "## 5.To add two list [ adding elements of list ] "
   ]
  },
  {
   "cell_type": "code",
   "execution_count": 4,
   "id": "interested-clearing",
   "metadata": {},
   "outputs": [
    {
     "name": "stdout",
     "output_type": "stream",
     "text": [
      "[12, 14, 16, 18, 20, 22, 24, 26, 28, 30]\n"
     ]
    }
   ],
   "source": [
    "lst1 = [1,2,3,4,5,6,7,8,9,10]\n",
    "lst2 = [11,12,13,14,15,16,17,18,19,20]\n",
    "lst3 =[]\n",
    "for i in range(0,len(lst1)):\n",
    "     lst3.append(lst1[i]+lst2[i])\n",
    "print(lst3)\n",
    "\n",
    "        "
   ]
  },
  {
   "cell_type": "markdown",
   "id": "ideal-copper",
   "metadata": {},
   "source": [
    "## 6.To implement a stack using a list"
   ]
  },
  {
   "cell_type": "code",
   "execution_count": 13,
   "id": "worse-deadline",
   "metadata": {},
   "outputs": [
    {
     "name": "stdout",
     "output_type": "stream",
     "text": [
      "Initial stack\n",
      "['a', 'b', 'c', 'd']\n",
      "\n",
      "Elements popped from stack:\n",
      "d\n",
      "c\n",
      "b\n",
      "a\n",
      "\n",
      "Stack after elements are popped:\n",
      "[]\n"
     ]
    }
   ],
   "source": [
    "stack = []\n",
    "\n",
    "# element in the stack\n",
    "stack.append('a')\n",
    "stack.append('b')\n",
    "stack.append('c')\n",
    "stack.append('d')\n",
    "  \n",
    "print('Initial stack')\n",
    "print(stack)\n",
    "  \n",
    "# pop() function to pop\n",
    "print('\\nElements popped from stack:')\n",
    "print(stack.pop())\n",
    "print(stack.pop())\n",
    "print(stack.pop())\n",
    "print(stack.pop())\n",
    "  \n",
    "print('\\nStack after elements are popped:')\n",
    "print(stack)"
   ]
  },
  {
   "cell_type": "markdown",
   "id": "hybrid-microphone",
   "metadata": {},
   "source": [
    "## 7.To implement a game [Rock , Paper , Scissor ] using list ."
   ]
  },
  {
   "cell_type": "code",
   "execution_count": 9,
   "id": "artistic-trash",
   "metadata": {},
   "outputs": [
    {
     "name": "stdout",
     "output_type": "stream",
     "text": [
      "Enter 'rock','paper','scissor': scissor\n",
      "your choice is: scissor\n",
      "computer's choice is: rock\n",
      "rock wins\n"
     ]
    }
   ],
   "source": [
    "import random\n",
    "choices = [\"rock\",\"paper\",\"scissor\"]\n",
    "user = input(\"Enter 'rock','paper','scissor': \")\n",
    "print(\"your choice is:\" ,user)\n",
    "computer = random.choice(choices)\n",
    "print(\"computer's choice is:\", computer)\n",
    "\n",
    "if ((user == 'rock' and computer == 'paper') or(user == 'paper' and computer == 'rock')):\n",
    "    print(\"paper wins\")\n",
    "   \n",
    "elif((user == 'rock' and computer == 'scissor') or(user == 'scissor' and computer == 'rock')):\n",
    "    print(\"rock wins\")\n",
    "    \n",
    "elif ((user == 'paper' and computer == 'scissor') or(user == 'scissor' and computer == 'paper')):\n",
    "    print(\"scissor wins\")\n",
    "    \n",
    "else :\n",
    "    print(\"Tie\")\n"
   ]
  },
  {
   "cell_type": "markdown",
   "id": "alleged-haiti",
   "metadata": {},
   "source": [
    "## 8.To sort a given number list in ascending order using functions."
   ]
  },
  {
   "cell_type": "code",
   "execution_count": 10,
   "id": "worse-charleston",
   "metadata": {},
   "outputs": [
    {
     "name": "stdout",
     "output_type": "stream",
     "text": [
      "[13, 19, 27, 46, 57, 63, 74, 78, 99]\n"
     ]
    }
   ],
   "source": [
    "list1 = [78,27,99,19,46,63,74,57,13]\n",
    "list1.sort()\n",
    "print(list1)"
   ]
  },
  {
   "cell_type": "code",
   "execution_count": null,
   "id": "plain-delhi",
   "metadata": {},
   "outputs": [],
   "source": []
  }
 ],
 "metadata": {
  "kernelspec": {
   "display_name": "Python 3",
   "language": "python",
   "name": "python3"
  },
  "language_info": {
   "codemirror_mode": {
    "name": "ipython",
    "version": 3
   },
   "file_extension": ".py",
   "mimetype": "text/x-python",
   "name": "python",
   "nbconvert_exporter": "python",
   "pygments_lexer": "ipython3",
   "version": "3.7.4"
  }
 },
 "nbformat": 4,
 "nbformat_minor": 5
}
