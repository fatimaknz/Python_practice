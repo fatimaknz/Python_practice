{
 "cells": [
  {
   "cell_type": "code",
   "execution_count": 9,
   "id": "still-tunisia",
   "metadata": {},
   "outputs": [
    {
     "name": "stdout",
     "output_type": "stream",
     "text": [
      "Enter the number of elements 5\n",
      "4\n",
      "6\n",
      "8\n",
      "1\n",
      "9\n",
      "[4, 6, 8, 1, 9]\n"
     ]
    }
   ],
   "source": [
    "#taking input form user and appending it to my_list\n",
    "my_list = []\n",
    "n = int(input(\"Enter the number of elements \"))\n",
    "for i in range(0,n):\n",
    "    element = int(input())\n",
    "    my_list.append(element)\n",
    "print(my_list)"
   ]
  },
  {
   "cell_type": "markdown",
   "id": "indie-stake",
   "metadata": {},
   "source": [
    "# Even Odd"
   ]
  },
  {
   "cell_type": "code",
   "execution_count": 10,
   "id": "right-philosophy",
   "metadata": {},
   "outputs": [
    {
     "name": "stdout",
     "output_type": "stream",
     "text": [
      "4 is even\n",
      "6 is even\n",
      "8 is even\n",
      "1 is odd\n",
      "9 is odd\n"
     ]
    }
   ],
   "source": [
    "for i in my_list:\n",
    "    if i % 2 == 0:\n",
    "        print(i,\"is even\")\n",
    "    else:\n",
    "        print(i,\"is odd\")"
   ]
  },
  {
   "cell_type": "markdown",
   "id": "polyphonic-ideal",
   "metadata": {},
   "source": [
    "# Amstrong number"
   ]
  },
  {
   "cell_type": "code",
   "execution_count": 22,
   "id": "vulnerable-butterfly",
   "metadata": {},
   "outputs": [
    {
     "name": "stdout",
     "output_type": "stream",
     "text": [
      "Enter a number: 1634\n",
      "1634  is an Amstrong number\n"
     ]
    }
   ],
   "source": [
    "number = input(\"Enter a number: \")\n",
    "sum = 0\n",
    "for i in str(number):\n",
    "    sum += int(i)**len(str(number))\n",
    "if int(number) == sum :\n",
    "    print(number,\" is an Amstrong number\")\n",
    "else:\n",
    "    print(number ,\" not an Amstrong number\")"
   ]
  },
  {
   "cell_type": "markdown",
   "id": "adaptive-marking",
   "metadata": {},
   "source": [
    "# Palindrome"
   ]
  },
  {
   "cell_type": "code",
   "execution_count": 1,
   "id": "painful-adapter",
   "metadata": {},
   "outputs": [
    {
     "name": "stdout",
     "output_type": "stream",
     "text": [
      "Enter String: malayalam\n",
      "malayalam  is palindrome\n"
     ]
    }
   ],
   "source": [
    "S = str(input(\"Enter String: \"))\n",
    "if (S == (S[::-1])):\n",
    "    print(S,\" is palindrome\")\n",
    "else:\n",
    "     print(S,\" is not palindrome\")"
   ]
  },
  {
   "cell_type": "markdown",
   "id": "pregnant-whole",
   "metadata": {},
   "source": [
    "# Fibbonacci"
   ]
  },
  {
   "cell_type": "code",
   "execution_count": 7,
   "id": "southwest-preserve",
   "metadata": {},
   "outputs": [
    {
     "name": "stdout",
     "output_type": "stream",
     "text": [
      "Enter the number of elements you want in fibbonacci: 10\n",
      "0\n",
      "1\n",
      "1\n",
      "2\n",
      "3\n",
      "5\n",
      "8\n",
      "13\n",
      "21\n",
      "34\n"
     ]
    }
   ],
   "source": [
    "n =  int(input(\"Enter the number of elements you want in fibbonacci: \"))\n",
    "f1= 0\n",
    "f2= 1\n",
    "if n == 1:\n",
    "    print(f1)\n",
    "else:\n",
    "    print(f1)\n",
    "    print(f2)\n",
    "    for i in range(2,n):\n",
    "        f3 = f1 + f2\n",
    "        f1 = f2\n",
    "        f2 = f3\n",
    "        print(f3)\n",
    "    \n"
   ]
  },
  {
   "cell_type": "code",
   "execution_count": null,
   "id": "innocent-frontier",
   "metadata": {},
   "outputs": [],
   "source": []
  }
 ],
 "metadata": {
  "kernelspec": {
   "display_name": "Python 3",
   "language": "python",
   "name": "python3"
  },
  "language_info": {
   "codemirror_mode": {
    "name": "ipython",
    "version": 3
   },
   "file_extension": ".py",
   "mimetype": "text/x-python",
   "name": "python",
   "nbconvert_exporter": "python",
   "pygments_lexer": "ipython3",
   "version": "3.7.4"
  }
 },
 "nbformat": 4,
 "nbformat_minor": 5
}
