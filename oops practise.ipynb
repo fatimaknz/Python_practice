{
 "cells": [
  {
   "cell_type": "markdown",
   "id": "unsigned-newport",
   "metadata": {},
   "source": [
    "# CLASS AND OBJECTS"
   ]
  },
  {
   "cell_type": "code",
   "execution_count": 5,
   "id": "aggregate-deviation",
   "metadata": {},
   "outputs": [
    {
     "name": "stdout",
     "output_type": "stream",
     "text": [
      "Name:  Ambari Age: 23 Profession: Software engineer\n",
      "Ambari is working as Software engineer\n"
     ]
    }
   ],
   "source": [
    "#class and objects\n",
    "\n",
    "\n",
    "class person:\n",
    "    #constructor\n",
    "    def __init__(self,Name,Age,Profession): #attributes\n",
    "        self.Name = Name\n",
    "        self.Age = Age\n",
    "        self.Profession = Profession\n",
    "        \n",
    "    #instance methods   \n",
    "    def show(self):\n",
    "        print(\"Name: \",self.Name, \"Age:\",self.Age, \"Profession:\" ,self.Profession)\n",
    "    \n",
    "    def work(self):\n",
    "        print(self.Name, \"is working as\", self.Profession)\n",
    "\n",
    "        \n",
    "p1 = person(\"Ambari\",22,\"Software engineer\") #object instantiation\n",
    "\n",
    "#call methods\n",
    "p1.show()\n",
    "p1.work()"
   ]
  },
  {
   "cell_type": "code",
   "execution_count": 12,
   "id": "played-stage",
   "metadata": {},
   "outputs": [
    {
     "name": "stdout",
     "output_type": "stream",
     "text": [
      "Name: Fatima Age: 22 Gender: Female\n",
      "after updating instance variable of object s1\n",
      "Name: Anam Age: 23 Gender: Female\n",
      "School name: St.Jsph\n",
      "after updating class variable\n",
      "School name: SSVEHS\n"
     ]
    }
   ],
   "source": [
    "#class variable example and modifying object properties\n",
    "\n",
    "\n",
    "class school:\n",
    "    school_name = \"St.Jsph\"\n",
    "    \n",
    "    def __init__(self,Name,Age,Gender):\n",
    "        self.Name = Name\n",
    "        self.Age = Age\n",
    "        self.Gender = Gender\n",
    "        \n",
    "s1 = school('Fatima',22,\"Female\")\n",
    "print(\"Name:\",s1.Name, \"Age:\",s1.Age, \"Gender:\",s1.Gender)\n",
    "\n",
    "#Modifying instance var\n",
    "s1.Name = \"Anam\"\n",
    "s1.Age = \"23\"\n",
    "\n",
    "print(\"after updating instance variable of object s1\")\n",
    "print(\"Name:\",s1.Name, \"Age:\",s1.Age, \"Gender:\",s1.Gender)\n",
    "\n",
    "#printing class variable\n",
    "print(\"School name:\", school.school_name)\n",
    "\n",
    "#Modifying class var\n",
    "school.school_name = \"SSVEHS\"\n",
    "\n",
    "print(\"after updating class variable\")\n",
    "print(\"School name:\", school.school_name)\n",
    "\n",
    "\n",
    "        "
   ]
  },
  {
   "cell_type": "code",
   "execution_count": 15,
   "id": "bright-tablet",
   "metadata": {},
   "outputs": [
    {
     "name": "stdout",
     "output_type": "stream",
     "text": [
      "Equal\n"
     ]
    }
   ],
   "source": [
    "#Static method\n",
    "\n",
    "\n",
    "class Dates:\n",
    "    def __init__(self, date):\n",
    "        self.date = date\n",
    "        \n",
    "    def getDate(self):\n",
    "        return self.date\n",
    "\n",
    "    @staticmethod\n",
    "    def toDashDate(date):\n",
    "        return date.replace(\"/\", \"-\")\n",
    "\n",
    "date = Dates(\"15-12-2016\")\n",
    "dateFromDB = \"15/12/2016\"\n",
    "dateWithDash = Dates.toDashDate(dateFromDB)\n",
    "\n",
    "if(date.getDate() == dateWithDash):\n",
    "    print(\"Equal\")\n",
    "else:\n",
    "    print(\"Unequal\")"
   ]
  },
  {
   "cell_type": "code",
   "execution_count": 28,
   "id": "weird-wrapping",
   "metadata": {},
   "outputs": [
    {
     "name": "stdout",
     "output_type": "stream",
     "text": [
      "Name: Ambari Age: 22\n",
      "Name: Saurabh Age: 23\n",
      "Name: Ambari Age: 23\n",
      "school name: Abc\n",
      "Modified school name: Xyz\n"
     ]
    }
   ],
   "source": [
    "#class Method and del object properties and object \n",
    "\n",
    "\n",
    "class student:\n",
    "    school_name = \"Abc\" #class var\n",
    "    \n",
    "    def __init__(self,name,age):\n",
    "        self.name = name\n",
    "        self.age = age\n",
    "    \n",
    "    def show(self):\n",
    "        print(\"Name:\",self.name, \"Age:\",self.age)\n",
    "    \n",
    "    def change_age(self,new_age): #new_age is parameters\n",
    "        self.age  = new_age\n",
    "        \n",
    "    @classmethod     \n",
    "    def change_SN(cls,new_name):\n",
    "        student.school_name = new_name\n",
    "        \n",
    "s1 = student(\"Ambari\",22)\n",
    "s1.show()\n",
    "\n",
    "s2 = student(\"Saurabh\",23)\n",
    "s2.show()\n",
    "\n",
    "del s2.name\n",
    "#s2.show() #thorws error \"student' object has no attribute 'name' \"\n",
    "\n",
    "del s2\n",
    "#s2.show() #throws error \"name 's2' is not defined\"\n",
    "\n",
    "print(\"Modifying age of s1\")\n",
    "s1.change_age(23)\n",
    "s1.show()\n",
    "\n",
    "print(\"school name:\", student.school_name)\n",
    "student.change_SN(\"Xyz\")\n",
    "print(\"Modified school name:\", student.school_name)"
   ]
  },
  {
   "cell_type": "markdown",
   "id": "occupational-contractor",
   "metadata": {},
   "source": [
    "# CONSTRUCTOR"
   ]
  },
  {
   "cell_type": "code",
   "execution_count": 45,
   "id": "compound-newfoundland",
   "metadata": {},
   "outputs": [
    {
     "name": "stdout",
     "output_type": "stream",
     "text": [
      "fatima\n"
     ]
    }
   ],
   "source": [
    "# Default constructor\n",
    "\n",
    "class student:\n",
    "    def display(self,name):\n",
    "        print(name)\n",
    "s1 = student()\n",
    "s1.display(\"fatima\")"
   ]
  },
  {
   "cell_type": "code",
   "execution_count": 34,
   "id": "thermal-tattoo",
   "metadata": {},
   "outputs": [
    {
     "name": "stdout",
     "output_type": "stream",
     "text": [
      "Name: Fatima Age: 23\n"
     ]
    }
   ],
   "source": [
    "#Non parameterized constructor\n",
    "\n",
    "\n",
    "class student:\n",
    "    def __init__(self):\n",
    "        self.name = \"Fatima\"\n",
    "        self.age = 23\n",
    "    \n",
    "    def show(self):\n",
    "        print(\"Name:\", self.name, \"Age:\",self.age)\n",
    "        \n",
    "s1 = student()\n",
    "s1.show()\n",
    "        "
   ]
  },
  {
   "cell_type": "code",
   "execution_count": 35,
   "id": "sized-zoning",
   "metadata": {},
   "outputs": [
    {
     "name": "stdout",
     "output_type": "stream",
     "text": [
      "Name:  Ambari Age: 22 Profession: Software engineer\n",
      "Ambari is working as Software engineer\n"
     ]
    }
   ],
   "source": [
    "#parameterized constructor\n",
    "\n",
    "\n",
    "class person:\n",
    "    #constructor\n",
    "    def __init__(self,Name,Age,Profession): #attributes\n",
    "        self.Name = Name\n",
    "        self.Age = Age\n",
    "        self.Profession = Profession\n",
    "        \n",
    "    #instance methods   \n",
    "    def show(self):\n",
    "        print(\"Name: \",self.Name, \"Age:\",self.Age, \"Profession:\" ,self.Profession)\n",
    "    \n",
    "    def work(self):\n",
    "        print(self.Name, \"is working as\", self.Profession)\n",
    "\n",
    "        \n",
    "p1 = person(\"Ambari\",22,\"Software engineer\") #object instantiation\n",
    "\n",
    "#call methods\n",
    "p1.show()\n",
    "p1.work()"
   ]
  },
  {
   "cell_type": "code",
   "execution_count": 59,
   "id": "durable-dragon",
   "metadata": {},
   "outputs": [
    {
     "name": "stdout",
     "output_type": "stream",
     "text": [
      "Name: Fatima Age: 22\n",
      "Name: saurabh Age: 21\n"
     ]
    }
   ],
   "source": [
    "#Constructor With Default Values\n",
    "\n",
    "class student:\n",
    "    def __init__(self,name,age = 22):\n",
    "        self.name = name\n",
    "        self.age = age\n",
    "    \n",
    "    def show(self):\n",
    "        print(\"Name:\", self.name, \"Age:\",self.age)\n",
    "        \n",
    "s1 = student(\"Fatima\")\n",
    "s1.show()\n",
    "\n",
    "s2 = student(\"saurabh\",21)\n",
    "s2.show()\n",
    "        \n"
   ]
  },
  {
   "cell_type": "code",
   "execution_count": null,
   "id": "lightweight-residence",
   "metadata": {},
   "outputs": [],
   "source": [
    "#Constructor Overloading\n",
    "\n",
    "'''Python does not support constructor overloading. If we define multiple constructors then, \n",
    "the interpreter will considers only the last constructor and \n",
    "throws an error if the sequence of the arguments doesn’t match as per the last constructor. '''\n",
    "\n",
    "class Student:\n",
    "    # one argument constructor\n",
    "    def __init__(self, name):\n",
    "        print(\"One arguments constructor\")\n",
    "        self.name = name\n",
    "\n",
    "    # two argument constructor\n",
    "    def __init__(self, name, age):\n",
    "        print(\"Two arguments constructor\")\n",
    "        self.name = name\n",
    "        self.age = age\n",
    "\n",
    "# creating first object\n",
    "emma = Student('Emma',15)\n",
    "\n",
    "# creating Second object\n",
    "kelly = Student('Kelly', 13)\n",
    "\n",
    "#error : TypeError: __init__() missing 1 required positional argument: 'age'"
   ]
  },
  {
   "cell_type": "code",
   "execution_count": 49,
   "id": "editorial-convergence",
   "metadata": {},
   "outputs": [
    {
     "name": "stdout",
     "output_type": "stream",
     "text": [
      "Inside Vehicle Constructor\n",
      "Inside Car Constructor\n",
      "Inside Electric Car Constructor\n",
      "Engine=1500cc, Max Speed=250, Km range=750\n"
     ]
    }
   ],
   "source": [
    "#consructor chaining\n",
    "\n",
    "class Vehical:\n",
    "    #contructor of vehical class\n",
    "    def __init__(self,engine):\n",
    "        print('Inside Vehicle Constructor')\n",
    "        self.engine = engine\n",
    "        \n",
    "class Car(Vehical):\n",
    "    #constructor of car class\n",
    "    def __init__(self,engine,max_speed):\n",
    "        super().__init__(engine)\n",
    "        print('Inside Car Constructor')\n",
    "        self.max_speed = max_speed\n",
    "    \n",
    "class Electric_car(Car):\n",
    "    #constructor of electic_car class\n",
    "    def __init__(self,engine,max_speed,km_range):\n",
    "        super().__init__(engine,max_speed)\n",
    "        print('Inside Electric Car Constructor')\n",
    "        self.km_range = km_range\n",
    "    \n",
    "ev = Electric_car(\"1500cc\",250,750)\n",
    "print(f'Engine={ev.engine}, Max Speed={ev.max_speed}, Km range={ev.km_range}')"
   ]
  },
  {
   "cell_type": "code",
   "execution_count": null,
   "id": "ruled-tablet",
   "metadata": {},
   "outputs": [],
   "source": [
    "#Constructor Return Value\n",
    "\n",
    "class Test:\n",
    "\n",
    "    def __init__(self, i):\n",
    "        self.id = i\n",
    "        return True\n",
    "\n",
    "d = Test(10)\n",
    "\n",
    "#error : TypeError: __init__() should return None, not 'bool'"
   ]
  },
  {
   "cell_type": "markdown",
   "id": "interior-medication",
   "metadata": {},
   "source": [
    "# Instance Variable"
   ]
  },
  {
   "cell_type": "code",
   "execution_count": 55,
   "id": "greater-legend",
   "metadata": {},
   "outputs": [
    {
     "name": "stdout",
     "output_type": "stream",
     "text": [
      "20\n"
     ]
    }
   ],
   "source": [
    "#Local Variables: Variables in a method or block of code\n",
    "\n",
    "class cal:\n",
    "    def __init__(self,a):\n",
    "        self.a = a #instance var\n",
    "    \n",
    "    def add(self):\n",
    "        b=10      #local var\n",
    "        print(self.a+b)\n",
    "        \n",
    "obj = cal(10)\n",
    "obj.add()"
   ]
  },
  {
   "cell_type": "code",
   "execution_count": 60,
   "id": "stable-sheep",
   "metadata": {},
   "outputs": [
    {
     "name": "stdout",
     "output_type": "stream",
     "text": [
      "Name: Jessa Age: 20\n"
     ]
    }
   ],
   "source": [
    "#Ways to Access Instance Variable\n",
    "\n",
    "#way 1:\n",
    "class Student:\n",
    "    # constructor\n",
    "    def __init__(self, name, age):\n",
    "        # Instance variable\n",
    "        self.name = name\n",
    "        self.age = age\n",
    "\n",
    "    # instance method access instance variable\n",
    "    def show(self):\n",
    "        print('Name:', stud.name, 'Age:', stud.age)\n",
    "\n",
    "# create object\n",
    "stud = Student(\"Jessa\", 20)\n",
    "\n",
    "# call instance method\n",
    "stud.show()"
   ]
  },
  {
   "cell_type": "code",
   "execution_count": 61,
   "id": "solved-sending",
   "metadata": {},
   "outputs": [
    {
     "name": "stdout",
     "output_type": "stream",
     "text": [
      "Name: Jessa\n",
      "Age: 20\n"
     ]
    }
   ],
   "source": [
    "# way 2:\n",
    "class Student:\n",
    "    # constructor\n",
    "    def __init__(self, name, age):\n",
    "        # Instance variable\n",
    "        self.name = name\n",
    "        self.age = age\n",
    "\n",
    "# create object\n",
    "stud = Student(\"Jessa\", 20)\n",
    "\n",
    "# Use getattr instead of stud.name\n",
    "print('Name:', getattr(stud, 'name'))\n",
    "print('Age:', getattr(stud, 'age'))"
   ]
  },
  {
   "cell_type": "code",
   "execution_count": 63,
   "id": "leading-glenn",
   "metadata": {},
   "outputs": [
    {
     "name": "stdout",
     "output_type": "stream",
     "text": [
      "Before adding new instance var\n",
      "Name: Fatima Age: 22\n",
      "After adding new instance var\n",
      "Name: Fatima Age: 22 Marks 75\n"
     ]
    }
   ],
   "source": [
    "#Dynamically Add Instance Variable to a Object\n",
    "\n",
    "class student:\n",
    "    def __init__(self,name,age):\n",
    "        self.name = name\n",
    "        self.age = age\n",
    "        \n",
    "s1 = student(\"Fatima\",22)\n",
    "\n",
    "print(\"Before adding new instance var\")\n",
    "print(\"Name:\",s1.name,\"Age:\",s1.age)\n",
    "\n",
    "s1.marks = 75\n",
    "print(\"After adding new instance var\")\n",
    "print(\"Name:\",s1.name,\"Age:\",s1.age,\"Marks\",s1.marks)"
   ]
  },
  {
   "cell_type": "code",
   "execution_count": null,
   "id": "cognitive-renewal",
   "metadata": {},
   "outputs": [],
   "source": [
    "#Dynamically Delete Instance Variable( delattr() function)\n",
    "\n",
    "class Student:\n",
    "    def __init__(self, roll_no, name):\n",
    "        # Instance variable\n",
    "        self.roll_no = roll_no\n",
    "        self.name = name\n",
    "\n",
    "    def show(self):\n",
    "        print(self.roll_no, self.name)\n",
    "\n",
    "s1 = Student(10, 'Jessa')\n",
    "s1.show()\n",
    "\n",
    "# delete instance variable using delattr()\n",
    "delattr(s1, 'roll_no')\n",
    "s1.show() #o/p: AttributeError: 'Student' object has no attribute 'roll_no'\n"
   ]
  },
  {
   "cell_type": "code",
   "execution_count": 2,
   "id": "dirty-recipe",
   "metadata": {},
   "outputs": [
    {
     "name": "stdout",
     "output_type": "stream",
     "text": [
      "Engine = 1500cc\n",
      "Max Speed = 750\n"
     ]
    }
   ],
   "source": [
    "#Access Instance Variable From Another Class\n",
    "\n",
    "class Vehical:\n",
    "    \n",
    "    def __init__(self):\n",
    "        self.engine = \"1500cc\"\n",
    "    \n",
    "class Car(Vehical):\n",
    "    \n",
    "    def __init__(self,max_speed):\n",
    "        super().__init__()\n",
    "        self.max_speed = max_speed\n",
    "    \n",
    "    def show(self):\n",
    "        print(\"Engine =\",self.engine)\n",
    "        print(\"Max Speed =\",self.max_speed)\n",
    "\n",
    "ev = Car(750)\n",
    "ev.show()"
   ]
  },
  {
   "cell_type": "code",
   "execution_count": 4,
   "id": "flexible-adelaide",
   "metadata": {},
   "outputs": [
    {
     "name": "stdout",
     "output_type": "stream",
     "text": [
      "{'roll_no': 7, 'name': 'Jessa'}\n",
      "roll_no = 7\n",
      "name = Jessa\n"
     ]
    }
   ],
   "source": [
    "# List all Instance Variables of a Object\n",
    "\n",
    "class Student:\n",
    "    def __init__(self,roll_no,name):\n",
    "        self.roll_no = roll_no\n",
    "        self.name = name\n",
    "\n",
    "s1 = Student(7,\"Jessa\")\n",
    "print(s1.__dict__)\n",
    "\n",
    "for key_value in s1.__dict__.items():\n",
    "    print(key_value[0], \"=\", key_value[1])"
   ]
  },
  {
   "cell_type": "markdown",
   "id": "residential-addiction",
   "metadata": {},
   "source": [
    "# Instance methods"
   ]
  },
  {
   "cell_type": "code",
   "execution_count": 5,
   "id": "agricultural-michigan",
   "metadata": {},
   "outputs": [
    {
     "name": "stdout",
     "output_type": "stream",
     "text": [
      "Roll Number: 20 Name: Emma Age: 14 Marks: 75\n"
     ]
    }
   ],
   "source": [
    "# Create Instance Variables in Instance Method\n",
    "'''But, instance attributes are not specific only to the __init__() method; they can be defined elsewhere in the class. '''\n",
    "\n",
    "class Student:\n",
    "    def __init__(self, roll_no, name, age):\n",
    "        # Instance variable\n",
    "        self.roll_no = roll_no\n",
    "        self.name = name\n",
    "        self.age = age\n",
    "\n",
    "    # instance method to add instance variable\n",
    "    def add_marks(self, marks):\n",
    "        # add new attribute to current object\n",
    "        self.marks = marks\n",
    "\n",
    "# create object\n",
    "stud = Student(20, \"Emma\", 14)\n",
    "# call instance method\n",
    "stud.add_marks(75)\n",
    "\n",
    "# display object\n",
    "print('Roll Number:', stud.roll_no, 'Name:', stud.name, 'Age:', stud.age, 'Marks:', stud.marks)"
   ]
  },
  {
   "cell_type": "code",
   "execution_count": 7,
   "id": "suited-optimization",
   "metadata": {},
   "outputs": [
    {
     "name": "stdout",
     "output_type": "stream",
     "text": [
      "Name: Fatima Age: 22\n",
      "Hello! Fatima welcome in our class\n"
     ]
    }
   ],
   "source": [
    "# Dynamically Add Instance Method to a Object\n",
    "'''We should add a method to the object, so other instances don’t have access to that method. \n",
    "   We use the types module’s MethodType() to add a method to an object.'''\n",
    "\n",
    "import types\n",
    "class Student:\n",
    "    \n",
    "    def __init__(self,name,age):\n",
    "        self.name = name\n",
    "        self.age = age\n",
    "        \n",
    "    def show(self):\n",
    "        print(\"Name:\",self.name,\"Age:\",self.age)\n",
    "        \n",
    "def welcome(self):\n",
    "    print(\"Hello!\",self.name,\"welcome in our class\")\n",
    "\n",
    "s1 = Student(\"Fatima\",22)\n",
    "s1.show()\n",
    "\n",
    "s1.welcome = types.MethodType(welcome,s1)\n",
    "s1.welcome()"
   ]
  },
  {
   "cell_type": "markdown",
   "id": "square-timing",
   "metadata": {},
   "source": [
    "# class variable"
   ]
  },
  {
   "cell_type": "code",
   "execution_count": 9,
   "id": "suited-october",
   "metadata": {},
   "outputs": [
    {
     "name": "stdout",
     "output_type": "stream",
     "text": [
      "ABC School \n",
      "ABC School \n",
      "Inside instance method\n",
      "Emma 10 ABC School \n",
      "ABC School \n",
      "Outside class\n",
      "ABC School \n",
      "ABC School \n"
     ]
    }
   ],
   "source": [
    "#Accessing Class Variables\n",
    "\n",
    "'''In Python, we can access the class variable in the following places\n",
    "\n",
    "Access inside the constructor by using either self parameter or class name.\n",
    "Access class variable inside instance method by using either self of class name\n",
    "Access from outside of class by using either object reference or class name.'''\n",
    "\n",
    "# Access Class Variable in the constructor\n",
    "\n",
    "\n",
    "class Student:\n",
    "    # Class variable\n",
    "    school_name = 'ABC School '\n",
    "\n",
    "    # constructor\n",
    "    def __init__(self, name):\n",
    "        self.name = name\n",
    "        # access class variable inside constructor using self\n",
    "        print(self.school_name)\n",
    "        # access using class name\n",
    "        print(Student.school_name)\n",
    "\n",
    "# create Object\n",
    "s1 = Student('Emma')\n",
    "\n",
    "\n",
    "#Access Class Variable in Instance method and outside class\n",
    "\n",
    "class Student:\n",
    "    # Class variable\n",
    "    school_name = 'ABC School '\n",
    "\n",
    "    # constructor\n",
    "    def __init__(self, name, roll_no):\n",
    "        self.name = name\n",
    "        self.roll_no = roll_no\n",
    "\n",
    "    # Instance method\n",
    "    def show(self):\n",
    "        print('Inside instance method')\n",
    "        # access using self\n",
    "        print(self.name, self.roll_no, self.school_name)\n",
    "        # access using class name\n",
    "        print(Student.school_name)\n",
    "\n",
    "# create Object\n",
    "s1 = Student('Emma', 10)\n",
    "s1.show()\n",
    "\n",
    "print('Outside class')\n",
    "# access class variable outside class\n",
    "# access using object reference\n",
    "print(s1.school_name)\n",
    "\n",
    "# access using class name\n",
    "print(Student.school_name)\n"
   ]
  },
  {
   "cell_type": "code",
   "execution_count": 10,
   "id": "objective-december",
   "metadata": {},
   "outputs": [
    {
     "name": "stdout",
     "output_type": "stream",
     "text": [
      "Before\n",
      "Emma 10 ABC School \n",
      "After\n",
      "Emma 10 XYZ School\n"
     ]
    }
   ],
   "source": [
    "# Modifying class var\n",
    "\n",
    "class Student:\n",
    "    # Class variable\n",
    "    school_name = 'ABC School '\n",
    "\n",
    "    # constructor\n",
    "    def __init__(self, name, roll_no):\n",
    "        self.name = name\n",
    "        self.roll_no = roll_no\n",
    "\n",
    "    # Instance method\n",
    "    def show(self):\n",
    "        print(self.name, self.roll_no, Student.school_name)\n",
    "\n",
    "# create Object\n",
    "s1 = Student('Emma', 10)\n",
    "print('Before')\n",
    "s1.show()\n",
    "\n",
    "# Modify class variable\n",
    "Student.school_name = 'XYZ School'\n",
    "print('After')\n",
    "s1.show()\n"
   ]
  },
  {
   "cell_type": "code",
   "execution_count": 11,
   "id": "patent-filter",
   "metadata": {},
   "outputs": [
    {
     "name": "stdout",
     "output_type": "stream",
     "text": [
      "Before\n",
      "Emma 10 ABC School \n",
      "Jessa 20 ABC School \n",
      "After\n",
      "Emma 10 PQR School\n",
      "Jessa 20 ABC School \n"
     ]
    }
   ],
   "source": [
    "'''It is best practice to use a class name to change the value of a class variable. \n",
    "Because if we try to change the class variable’s value by using an object, \n",
    "a new instance variable is created for that particular object, which shadows the class variables.'''\n",
    "\n",
    "class Student:\n",
    "    # Class variable\n",
    "    school_name = 'ABC School '\n",
    "\n",
    "    # constructor\n",
    "    def __init__(self, name, roll_no):\n",
    "        self.name = name\n",
    "        self.roll_no = roll_no\n",
    "\n",
    "# create Objects\n",
    "s1 = Student('Emma', 10)\n",
    "s2 = Student('Jessa', 20)\n",
    "\n",
    "print('Before')\n",
    "print(s1.name, s1.roll_no, s1.school_name)\n",
    "print(s2.name, s2.roll_no, s2.school_name)\n",
    "\n",
    "# Modify class variable using object reference\n",
    "s1.school_name = 'PQR School'\n",
    "9print('After')\n",
    "print(s1.name, s1.roll_no, s1.school_name)\n",
    "print(s2.name, s2.roll_no, s2.school_name)\n"
   ]
  },
  {
   "cell_type": "markdown",
   "id": "centered-hundred",
   "metadata": {},
   "source": [
    "# Class Variables In Inheritance"
   ]
  },
  {
   "cell_type": "code",
   "execution_count": 12,
   "id": "major-minister",
   "metadata": {},
   "outputs": [
    {
     "name": "stdout",
     "output_type": "stream",
     "text": [
      "Before\n",
      "Name: Fatima Age: 22 Course name: python\n",
      "After\n",
      "Name: Fatima Age: 22 Course name: Machine Learning\n"
     ]
    }
   ],
   "source": [
    "class Course:\n",
    "      course = \"python\"\n",
    "        \n",
    "class Student(Course):\n",
    "    \n",
    "    def __init__(self,name,age):\n",
    "        self.name = name\n",
    "        self.age = age\n",
    "        \n",
    "    def show(self):\n",
    "        print(\"Before\")\n",
    "        print(\"Name:\",self.name,\"Age:\",self.age,\"Course name:\",Student.course)\n",
    "        \n",
    "        print(\"After\")\n",
    "        Student.course = \"Machine Learning\"\n",
    "        print(\"Name:\",self.name,\"Age:\",self.age,\"Course name:\",Student.course)\n",
    "        \n",
    "s1 = Student(\"Fatima\",22)\n",
    "s1.show()\n",
    "\n",
    "        \n"
   ]
  },
  {
   "cell_type": "code",
   "execution_count": 13,
   "id": "hired-earth",
   "metadata": {},
   "outputs": [
    {
     "name": "stdout",
     "output_type": "stream",
     "text": [
      "Before\n",
      "Student name: Emma Course Name: SQL\n",
      "Now\n",
      "Student name: Emma Course Name: Machine Learning\n",
      "Parent Class Course Name: Python\n"
     ]
    }
   ],
   "source": [
    "'''What if both child class and parent class has the same class variable name. \n",
    "In this case, the child class will not inherit the class variable of a base class. \n",
    "So it is recommended to create a separate class variable for child class instead of inheriting the base class variable.'''\n",
    "\n",
    "\n",
    "class Course:\n",
    "    # class variable\n",
    "    course = \"Python\"\n",
    "\n",
    "class Student(Course):\n",
    "    # class variable\n",
    "    course = \"SQL\"\n",
    "\n",
    "    def __init__(self, name):\n",
    "        self.name = name\n",
    "\n",
    "    def show_student(self):\n",
    "        # Accessing class variable\n",
    "        print('Before')\n",
    "        print(\"Student name:\", self.name, \"Course Name:\", Student.course)\n",
    "        # changing class variable's value\n",
    "        print('Now')\n",
    "        Student.course = \"Machine Learning\"\n",
    "        print(\"Student name:\", self.name, \"Course Name:\", Student.course)\n",
    "\n",
    "# creating object of Student class\n",
    "stud = Student(\"Emma\")\n",
    "stud.show_student()\n",
    "\n",
    "# parent class course name\n",
    "print('Parent Class Course Name:', Course.course)"
   ]
  },
  {
   "cell_type": "markdown",
   "id": "sufficient-nepal",
   "metadata": {},
   "source": [
    "# Class method"
   ]
  },
  {
   "cell_type": "code",
   "execution_count": 17,
   "id": "closed-rescue",
   "metadata": {},
   "outputs": [
    {
     "name": "stdout",
     "output_type": "stream",
     "text": [
      "Fatima's age is: 22\n",
      "Saurabh's age is: 23\n"
     ]
    }
   ],
   "source": [
    "# using @classmethod decrator\n",
    "\n",
    "from datetime import date\n",
    "class Student:\n",
    "    \n",
    "    def __init__(self,name,age):\n",
    "        self.name = name\n",
    "        self.age = age\n",
    "        \n",
    "    @classmethod\n",
    "    def cal_age(cls,name,birth_year):\n",
    "        return cls(name, date.today().year-birth_year)\n",
    "    \n",
    "    def show(self):\n",
    "        print(self.name + \"'s age is: \"+str(self.age))\n",
    "        \n",
    "st1 = Student(\"Fatima\",22)\n",
    "st1.show()\n",
    "\n",
    "st2 =Student.cal_age(\"Saurabh\",1999)\n",
    "st2.show()        "
   ]
  },
  {
   "cell_type": "code",
   "execution_count": 22,
   "id": "victorian-rebel",
   "metadata": {},
   "outputs": [
    {
     "name": "stdout",
     "output_type": "stream",
     "text": [
      "school name is: ABC\n"
     ]
    }
   ],
   "source": [
    "#1.using classmethod()\n",
    "#2.Dynamically Add Class Method to a Class\n",
    "\n",
    "class Student:\n",
    "    \n",
    "    name = \"ABC\"\n",
    "    \n",
    "        \n",
    "    def school_name(cls):\n",
    "        print(\"school name is:\",cls.name)\n",
    "    \n",
    "Student.school_name = classmethod(Student.school_name)\n",
    "\n",
    "Student.school_name()        "
   ]
  },
  {
   "cell_type": "code",
   "execution_count": 23,
   "id": "greenhouse-receptor",
   "metadata": {},
   "outputs": [
    {
     "name": "stdout",
     "output_type": "stream",
     "text": [
      "Jessa 20 School: ABC School\n",
      "Jessa 20 School: XYZ School\n"
     ]
    }
   ],
   "source": [
    "# Access Class Variables in Class Methods\n",
    "\n",
    "class Student:\n",
    "    school_name = 'ABC School'\n",
    "\n",
    "    def __init__(self, name, age):\n",
    "        self.name = name\n",
    "        self.age = age\n",
    "\n",
    "    @classmethod\n",
    "    def change_school(cls, school_name):\n",
    "        # class_name.class_variable\n",
    "        cls.school_name = school_name\n",
    "\n",
    "    # instance method\n",
    "    def show(self):\n",
    "        print(self.name, self.age, 'School:', Student.school_name)\n",
    "\n",
    "jessa = Student('Jessa', 20)\n",
    "jessa.show()\n",
    "\n",
    "# change school_name\n",
    "Student.change_school('XYZ School')\n",
    "jessa.show()\n"
   ]
  },
  {
   "cell_type": "code",
   "execution_count": 24,
   "id": "relevant-anniversary",
   "metadata": {},
   "outputs": [
    {
     "name": "stdout",
     "output_type": "stream",
     "text": [
      "BMW X5 65000\n",
      "BMW X5 4875000\n",
      "<class '__main__.Car'>\n"
     ]
    }
   ],
   "source": [
    "#Class Method in Inheritance\n",
    "'''In inheritance, the class method of a parent class is available to a child class.'''\n",
    "\n",
    "class Vehicle:\n",
    "    brand_name = 'BMW'\n",
    "\n",
    "    def __init__(self, name, price):\n",
    "        self.name = name\n",
    "        self.price = price\n",
    "\n",
    "    @classmethod\n",
    "    def from_price(cls, name, price):\n",
    "        # ind_price = dollar * 76\n",
    "        # create new Vehicle object\n",
    "        return cls(name, (price * 75))\n",
    "\n",
    "    def show(self):\n",
    "        print(self.name, self.price)\n",
    "\n",
    "class Car(Vehicle):\n",
    "    def average(self, distance, fuel_used):\n",
    "        mileage = distance / fuel_used\n",
    "        print(self.name, 'Mileage', mileage)\n",
    "\n",
    "bmw_us = Car('BMW X5', 65000)\n",
    "bmw_us.show()\n",
    "\n",
    "# class method of parent class is available to child class\n",
    "# this will return the object of calling class\n",
    "bmw_ind = Car.from_price('BMW X5', 65000)\n",
    "bmw_ind.show()\n",
    "\n",
    "# check type\n",
    "print(type(bmw_ind))"
   ]
  },
  {
   "cell_type": "code",
   "execution_count": null,
   "id": "scientific-colorado",
   "metadata": {},
   "outputs": [],
   "source": [
    "#Dynamically Delete Class Methods\n",
    "\n",
    "class Student:\n",
    "    school_name = 'ABC School'\n",
    "\n",
    "    def __init__(self, name, age):\n",
    "        self.name = name\n",
    "        self.age = age\n",
    "\n",
    "    @classmethod\n",
    "    def change_school(cls, school_name):\n",
    "        cls.school_name = school_name\n",
    "\n",
    "jessa = Student('Jessa', 20)\n",
    "print(Student.change_school('XYZ School'))\n",
    "print(Student.school_name)\n",
    "\n",
    "# delete class method\n",
    "del Student.change_school\n",
    "\n",
    "# call class method\n",
    "# it will give error\n",
    "print(Student.change_school('PQR School'))\n",
    "\n",
    "#AttributeError: type object 'Student' has no attribute 'change_school'\n"
   ]
  },
  {
   "cell_type": "markdown",
   "id": "increased-grocery",
   "metadata": {},
   "source": [
    "# Static method"
   ]
  },
  {
   "cell_type": "code",
   "execution_count": 1,
   "id": "retired-turkish",
   "metadata": {},
   "outputs": [
    {
     "name": "stdout",
     "output_type": "stream",
     "text": [
      "Inside static method 10\n",
      "Inside static method 10\n"
     ]
    }
   ],
   "source": [
    "class Employee:\n",
    "    @staticmethod\n",
    "    def sample(x):\n",
    "        print('Inside static method', x)\n",
    "\n",
    "# call static method\n",
    "Employee.sample(10)\n",
    "\n",
    "# can be called using object\n",
    "emp = Employee()\n",
    "emp.sample(10)"
   ]
  },
  {
   "cell_type": "code",
   "execution_count": 6,
   "id": "adjacent-angola",
   "metadata": {},
   "outputs": [
    {
     "name": "stdout",
     "output_type": "stream",
     "text": [
      "completed task_1\n",
      "completed task_2\n",
      "completed task_3\n"
     ]
    }
   ],
   "source": [
    "class Employee:\n",
    "    \n",
    "    def __init__(self,name,salary,project_name):\n",
    "        self.name = name\n",
    "        self.salary = salary\n",
    "        self.project_name = project_name\n",
    "     \n",
    "    @staticmethod\n",
    "    def gather_requirements(project_name):\n",
    "        if project_name == \"ABC\":\n",
    "            requirements = ['task_1','task_2','task_3']\n",
    "        else:\n",
    "            requirements = ['task_1']\n",
    "        return requirements\n",
    "    \n",
    "    def work(self):\n",
    "        requirements = self.gather_requirements(self.project_name)\n",
    "        for task in requirements:\n",
    "            print(\"completed\",task)\n",
    "            \n",
    "emp = Employee(\"Fatima\",100000,\"ABC\")\n",
    "emp.work()"
   ]
  },
  {
   "cell_type": "code",
   "execution_count": 7,
   "id": "loaded-efficiency",
   "metadata": {},
   "outputs": [
    {
     "name": "stdout",
     "output_type": "stream",
     "text": [
      "Inside static method 10\n"
     ]
    }
   ],
   "source": [
    "#static method function \n",
    "\n",
    "class Employee:\n",
    "    def sample(x):\n",
    "        print('Inside static method', x)\n",
    "\n",
    "# convert to static method\n",
    "Employee.sample = staticmethod(Employee.sample)\n",
    "# call static method\n",
    "Employee.sample(10)"
   ]
  },
  {
   "cell_type": "code",
   "execution_count": 9,
   "id": "historical-riding",
   "metadata": {},
   "outputs": [
    {
     "name": "stdout",
     "output_type": "stream",
     "text": [
      "static method 1\n"
     ]
    }
   ],
   "source": [
    "#Call Static Method from Another Method\n",
    "\n",
    "class Test :\n",
    "    @staticmethod\n",
    "    def static_method_1():\n",
    "        print('static method 1')\n",
    "\n",
    "    @staticmethod\n",
    "    def static_method_2() :\n",
    "        Test.static_method_1()\n",
    "\n",
    "    @classmethod\n",
    "    def class_method_1(cls) :\n",
    "        cls.static_method_2()\n",
    "\n",
    "# call class method\n",
    "Test.class_method_1()"
   ]
  },
  {
   "cell_type": "code",
   "execution_count": 6,
   "id": "oriented-alert",
   "metadata": {},
   "outputs": [
    {
     "name": "stdout",
     "output_type": "stream",
     "text": [
      "Jessa 12 ABC School\n",
      "Jessa 12 PQR School\n"
     ]
    },
    {
     "data": {
      "text/plain": [
       "['chapter 1', 'chapter 2', 'chapter 3']"
      ]
     },
     "execution_count": 6,
     "metadata": {},
     "output_type": "execute_result"
    }
   ],
   "source": [
    "class Student:\n",
    "    # class variables\n",
    "    school_name = 'ABC School'\n",
    "\n",
    "    # constructor\n",
    "    def __init__(self, name, age):\n",
    "        # instance variables\n",
    "        self.name = name\n",
    "        self.age = age\n",
    "\n",
    "    # instance variables\n",
    "    def show(self):\n",
    "        print(self.name, self.age, Student.school_name)\n",
    "\n",
    "    @classmethod\n",
    "    def change_School(cls, name):\n",
    "        cls.school_name = name\n",
    "\n",
    "    @staticmethod\n",
    "    def find_notes(subject_name):\n",
    "        return ['chapter 1', 'chapter 2', 'chapter 3']\n",
    "    \n",
    "# create object\n",
    "jessa = Student('Jessa', 12)\n",
    "# call instance method\n",
    "jessa.show()\n",
    "\n",
    "# call class method using the class\n",
    "Student.change_School('XYZ School')\n",
    "# call class method using the object\n",
    "jessa.change_School('PQR School')\n",
    "jessa.show()\n",
    "\n",
    "# call static method using the class\n",
    "Student.find_notes('Math')\n",
    "# call statics method using the object\n",
    "jessa.find_notes('Math')"
   ]
  },
  {
   "cell_type": "markdown",
   "id": "latin-farmer",
   "metadata": {},
   "source": [
    "# Encapsulation"
   ]
  },
  {
   "cell_type": "code",
   "execution_count": 17,
   "id": "abroad-gravity",
   "metadata": {},
   "outputs": [
    {
     "name": "stdout",
     "output_type": "stream",
     "text": [
      "output of method 1:\n",
      "Name: Fatima Salary: 30000\n",
      "output of method 2:\n",
      "Name: Fatima Salary: 30000\n"
     ]
    }
   ],
   "source": [
    "# private members \n",
    "\n",
    "\n",
    "'''Acessing private method method 1: Access Private member outside of a class using an instance method'''\n",
    "\n",
    "class Employee:\n",
    "    def __init__(self,name,salary):\n",
    "        self.name = name\n",
    "        self.__salary = salary\n",
    "        \n",
    "    def show(self): # to resolve below error create isntance method and access private member\n",
    "        print(\"output of method 1:\")\n",
    "        print(\"Name:\",self.name,\"Salary:\",self.__salary)\n",
    "    \n",
    "emp = Employee(\"Fatima\",30000)\n",
    "\n",
    "#print(\"Salary:\",emp.__salary) #AttributeError: 'Employee' object has no attribute '__salary'\n",
    "        \n",
    "emp.show()\n",
    "\n",
    "        \n",
    "'''Access Private member outside of a class using an instance method'''\n",
    "\n",
    "\n",
    "class Employee:\n",
    "    def __init__(self,name,salary):\n",
    "        self.name = name\n",
    "        self.__salary = salary\n",
    "        \n",
    "    \n",
    "emp = Employee(\"Fatima\",30000)\n",
    "\n",
    "print(\"output of method 2:\")\n",
    "print(\"Name:\",emp.name,\"Salary:\",emp._Employee__salary) \n",
    "  "
   ]
  },
  {
   "cell_type": "code",
   "execution_count": 5,
   "id": "dried-jacket",
   "metadata": {},
   "outputs": [
    {
     "name": "stdout",
     "output_type": "stream",
     "text": [
      "Name: Fatima Project_name: Machine Learning\n"
     ]
    }
   ],
   "source": [
    "#Protected Member\n",
    "\n",
    "class Company:\n",
    "    \n",
    "    def __init__(self):\n",
    "        self._project_name = \"Machine Learning\"\n",
    "\n",
    "class Employee:\n",
    "    def __init__(self,name):\n",
    "        self.name = name\n",
    "        Company.__init__(self)\n",
    "        \n",
    "        \n",
    "    def show(self):\n",
    "        print(\"Name:\",self.name,\"Project_name:\",self._project_name)\n",
    "        \n",
    "emp = Employee(\"Fatima\")\n",
    "emp.show()"
   ]
  },
  {
   "cell_type": "code",
   "execution_count": 26,
   "id": "solar-record",
   "metadata": {},
   "outputs": [
    {
     "name": "stdout",
     "output_type": "stream",
     "text": [
      "Retriving age\n",
      "Name: Fatima 22\n",
      "modifying age\n",
      "Name: Fatima 23\n"
     ]
    }
   ],
   "source": [
    "#getter setter method\n",
    "\n",
    "class Student:\n",
    "    \n",
    "    def __init__(self,name,age):\n",
    "        self.name = name\n",
    "        self.age = age\n",
    "        \n",
    "    def get_age(self):\n",
    "        return self.age\n",
    "    \n",
    "    def set_age(self,new_age):\n",
    "        self.age = new_age\n",
    "    \n",
    "s1 = Student(\"Fatima\",22)\n",
    "\n",
    "print(\"Retriving age\")\n",
    "print('Name:', s1.name, s1.get_age())\n",
    "\n",
    "print(\"modifying age\")\n",
    "s1.set_age(23)\n",
    "print('Name:', s1.name, s1.get_age())"
   ]
  },
  {
   "cell_type": "code",
   "execution_count": 37,
   "id": "frank-competition",
   "metadata": {},
   "outputs": [
    {
     "name": "stdout",
     "output_type": "stream",
     "text": [
      "Name: Fatima Roll_no: 7 age: 22\n",
      "Invalid roll number! Please enter the correct roll number\n",
      "Name: Fatima Roll_no: 12 age: 22\n"
     ]
    }
   ],
   "source": [
    "#getter setter method\n",
    "'''example that shows how to use encapsulation to implement information hiding and \n",
    "apply additional validation before changing the values of your object attributes (data member).'''\n",
    "\n",
    "\n",
    "class Student:\n",
    "    \n",
    "    def __init__(self,name,roll_no,age):\n",
    "        self.name = name\n",
    "        self.__roll_no =roll_no\n",
    "        self.__age = age\n",
    "        \n",
    "        \n",
    "    def show(self):\n",
    "        print(\"Name:\",self.name,\"Roll_no:\",self.__roll_no,\"age:\",self.__age)\n",
    "        \n",
    "    def get_roll(self):\n",
    "        return self.__roll_no\n",
    "    \n",
    "    def set_roll(self,new_roll):\n",
    "        if new_roll > 50:\n",
    "            print(\"Invalid roll number! Please enter the correct roll number\")\n",
    "        else:\n",
    "            self.__roll_no = new_roll\n",
    "\n",
    "s1 = Student(\"Fatima\",7,22)\n",
    "s1.show()\n",
    "\n",
    "s1.set_roll(51) #Invalid roll number! Please enter the correct roll number\n",
    "\n",
    "s1.set_roll(12)\n",
    "s1.show()"
   ]
  },
  {
   "cell_type": "markdown",
   "id": "light-payday",
   "metadata": {},
   "source": [
    "# Inheritance"
   ]
  },
  {
   "cell_type": "code",
   "execution_count": 7,
   "id": "blocked-article",
   "metadata": {},
   "outputs": [
    {
     "name": "stdout",
     "output_type": "stream",
     "text": [
      "Inside vehical class\n",
      "inside car  class\n"
     ]
    }
   ],
   "source": [
    "#Single inheritance\n",
    "\n",
    "class Vehical:\n",
    "\n",
    "    def vehical_info(self):\n",
    "        print(\"Inside vehical class\")\n",
    "    \n",
    "class Car(Vehical):\n",
    "    \n",
    "    def car_info(self):\n",
    "        print(\"inside car  class\")\n",
    "        \n",
    "c1 = Car()\n",
    "c1.vehical_info() #accessig vehical info using child object\n",
    "c1.car_info()"
   ]
  },
  {
   "cell_type": "code",
   "execution_count": 8,
   "id": "driving-discretion",
   "metadata": {},
   "outputs": [
    {
     "name": "stdout",
     "output_type": "stream",
     "text": [
      "Inside parent 1\n",
      "Name: Fatima Age: 22\n",
      "inside parent 2\n",
      "Company name: ABC Location: Mumbai\n",
      "inside child class\n",
      "Salary: 30000 Skill: Machine Learning\n"
     ]
    }
   ],
   "source": [
    "# Multiple inheritance\n",
    "\n",
    "#parent 1\n",
    "class Preson:\n",
    "\n",
    "    def person_info(self,name,age):\n",
    "        print(\"Inside parent 1\")\n",
    "        print(\"Name:\",name,\"Age:\",age)\n",
    "    \n",
    "#parent 2    \n",
    "class Company:\n",
    "    \n",
    "    def company_info(self,company_name,location):\n",
    "        print(\"inside parent 2\")\n",
    "        print(\"Company name:\",company_name,\"Location:\",location)\n",
    "        \n",
    "#child class\n",
    "class Employee(Preson,Company):\n",
    "    \n",
    "    def emp_info(self,salary,skill):\n",
    "        print(\"inside child class\")\n",
    "        print(\"Salary:\", salary, \"Skill:\",skill)\n",
    "\n",
    "emp = Employee()\n",
    "\n",
    "emp.person_info(\"Fatima\",22)\n",
    "emp.company_info(\"ABC\",\"Mumbai\")\n",
    "emp.emp_info(30000,\"Machine Learning\")\n",
    "\n",
    "        "
   ]
  },
  {
   "cell_type": "code",
   "execution_count": 9,
   "id": "brilliant-dayton",
   "metadata": {},
   "outputs": [
    {
     "name": "stdout",
     "output_type": "stream",
     "text": [
      "Inside parent 1\n",
      "Name: Fatima Age: 22\n",
      "inside parent 2\n",
      "Company name: ABC Location: Mumbai\n",
      "inside child class\n",
      "Salary: 30000 Skill: Machine Learning\n"
     ]
    }
   ],
   "source": [
    "# Multi level inheritance\n",
    "\n",
    "\n",
    "class Person:\n",
    "\n",
    "    def person_info(self,name,age):\n",
    "        print(\"Inside parent 1\")\n",
    "        print(\"Name:\",name,\"Age:\",age)\n",
    "    \n",
    "    \n",
    "class Company(Person):\n",
    "    \n",
    "    def company_info(self,company_name,location):\n",
    "        print(\"inside parent 2\")\n",
    "        print(\"Company name:\",company_name,\"Location:\",location)\n",
    "        \n",
    "\n",
    "class Employee(Company):\n",
    "    \n",
    "    def emp_info(self,salary,skill):\n",
    "        print(\"inside child class\")\n",
    "        print(\"Salary:\", salary, \"Skill:\",skill)\n",
    "\n",
    "emp = Employee()\n",
    "\n",
    "emp.person_info(\"Fatima\",22)\n",
    "emp.company_info(\"ABC\",\"Mumbai\")\n",
    "emp.emp_info(30000,\"Machine Learning\")\n",
    "\n",
    "        "
   ]
  },
  {
   "cell_type": "code",
   "execution_count": 3,
   "id": "front-guitar",
   "metadata": {},
   "outputs": [
    {
     "name": "stdout",
     "output_type": "stream",
     "text": [
      "Inside parent 1\n",
      "Name: Fatima Age: 22\n",
      "inside parent 2\n",
      "Company name: ABC Location: Mumbai\n",
      "Inside parent 1\n",
      "Name: Saurabh Age: 22\n",
      "inside child class\n",
      "Salary: 30000 Skill: Machine Learning\n"
     ]
    }
   ],
   "source": [
    "# Hierarchical Inheritance\n",
    "\n",
    "\n",
    "class Person:\n",
    "\n",
    "    def person_info(self,name,age):\n",
    "        print(\"Inside parent 1\")\n",
    "        print(\"Name:\",name,\"Age:\",age)\n",
    "    \n",
    "    \n",
    "class Company(Person):\n",
    "    \n",
    "    def company_info(self,company_name,location):\n",
    "        print(\"inside parent 2\")\n",
    "        print(\"Company name:\",company_name,\"Location:\",location)\n",
    "        \n",
    "\n",
    "class Employee(Person):\n",
    "    \n",
    "    def emp_info(self,salary,skill):\n",
    "        print(\"inside child class\")\n",
    "        print(\"Salary:\", salary, \"Skill:\",skill)\n",
    "\n",
    "emp = Company()\n",
    "emp.person_info(\"Fatima\",22)\n",
    "emp.company_info(\"ABC\",\"Mumbai\")\n",
    "\n",
    "emp1 = Employee()\n",
    "emp1.person_info(\"Saurabh\",22)\n",
    "emp1.emp_info(30000,\"Machine Learning\")\n",
    "\n",
    "        "
   ]
  },
  {
   "cell_type": "code",
   "execution_count": 4,
   "id": "departmental-secretariat",
   "metadata": {},
   "outputs": [
    {
     "name": "stdout",
     "output_type": "stream",
     "text": [
      "Inside Vehicle class\n",
      "Inside Car class\n",
      "Inside SportsCar class\n"
     ]
    }
   ],
   "source": [
    "#Hybrid\n",
    "\n",
    "class Vehicle:\n",
    "    def vehicle_info(self):\n",
    "        print(\"Inside Vehicle class\")\n",
    "\n",
    "class Car(Vehicle):\n",
    "    def car_info(self):\n",
    "        print(\"Inside Car class\")\n",
    "\n",
    "class Truck(Vehicle):\n",
    "    def truck_info(self):\n",
    "        print(\"Inside Truck class\")\n",
    "\n",
    "# Sports Car can inherits properties of Vehicle and Car\n",
    "class SportsCar(Car, Vehicle):\n",
    "    def sports_car_info(self):\n",
    "        print(\"Inside SportsCar class\")\n",
    "\n",
    "# create object\n",
    "s_car = SportsCar()\n",
    "\n",
    "s_car.vehicle_info()\n",
    "s_car.car_info()\n",
    "s_car.sports_car_info()"
   ]
  },
  {
   "cell_type": "code",
   "execution_count": 12,
   "id": "married-mechanics",
   "metadata": {},
   "outputs": [
    {
     "name": "stdout",
     "output_type": "stream",
     "text": [
      "Jessa works at Google\n"
     ]
    }
   ],
   "source": [
    "#super()\n",
    "\n",
    "class Company:\n",
    "    def company_name(self):\n",
    "        return 'Google'\n",
    "\n",
    "class Employee(Company):\n",
    "    def info(self):\n",
    "        # Calling the superclass method using super()function\n",
    "        c_name = super().company_name()\n",
    "        print(\"Jessa works at\", c_name)\n",
    "\n",
    "# Creating object of child class\n",
    "emp = Employee()\n",
    "emp.info()"
   ]
  },
  {
   "cell_type": "code",
   "execution_count": 13,
   "id": "superior-offer",
   "metadata": {},
   "outputs": [
    {
     "name": "stdout",
     "output_type": "stream",
     "text": [
      "max speed is 200 Km/Hour\n"
     ]
    }
   ],
   "source": [
    "#method overriding\n",
    "\n",
    "class Vehicle:\n",
    "    def max_speed(self):\n",
    "        print(\"max speed is 100 Km/Hour\")\n",
    "\n",
    "class Car(Vehicle):\n",
    "    # overridden the implementation of Vehicle class\n",
    "    def max_speed(self):\n",
    "        print(\"max speed is 200 Km/Hour\")\n",
    "\n",
    "# Creating object of Car class\n",
    "car = Car()\n",
    "car.max_speed()"
   ]
  },
  {
   "cell_type": "markdown",
   "id": "interior-victorian",
   "metadata": {},
   "source": [
    "# Polymorphism"
   ]
  },
  {
   "cell_type": "code",
   "execution_count": 14,
   "id": "selected-canvas",
   "metadata": {},
   "outputs": [
    {
     "name": "stdout",
     "output_type": "stream",
     "text": [
      "Details: Car x1 Red 20000\n",
      "Car max speed is 240\n",
      "Car change 7 gear\n",
      "Details: Truck x1 white 75000\n",
      "Vehicle max speed is 150\n",
      "Vehicle change 6 gear\n"
     ]
    }
   ],
   "source": [
    "class Vehicle:\n",
    "\n",
    "    def __init__(self, name, color, price):\n",
    "        self.name = name\n",
    "        self.color = color\n",
    "        self.price = price\n",
    "\n",
    "    def show(self):\n",
    "        print('Details:', self.name, self.color, self.price)\n",
    "\n",
    "    def max_speed(self):\n",
    "        print('Vehicle max speed is 150')\n",
    "\n",
    "    def change_gear(self):\n",
    "        print('Vehicle change 6 gear')\n",
    "\n",
    "\n",
    "# inherit from vehicle class\n",
    "class Car(Vehicle):\n",
    "    def max_speed(self):\n",
    "        print('Car max speed is 240')\n",
    "\n",
    "    def change_gear(self):\n",
    "        print('Car change 7 gear')\n",
    "\n",
    "\n",
    "# Car Object\n",
    "car = Car('Car x1', 'Red', 20000)\n",
    "car.show()\n",
    "# calls methods from Car class\n",
    "car.max_speed()\n",
    "car.change_gear()\n",
    "\n",
    "# Vehicle Object\n",
    "vehicle = Vehicle('Truck x1', 'white', 75000)\n",
    "vehicle.show()\n",
    "# calls method from a Vehicle class\n",
    "vehicle.max_speed()\n",
    "vehicle.change_gear()"
   ]
  },
  {
   "cell_type": "code",
   "execution_count": 15,
   "id": "static-projector",
   "metadata": {},
   "outputs": [
    {
     "name": "stdout",
     "output_type": "stream",
     "text": [
      "Petrol\n",
      "Max speed 350\n",
      "Diesel\n",
      "Max speed is 240\n"
     ]
    }
   ],
   "source": [
    "#Polymorphism In Class methods\n",
    "\n",
    "class Ferrari:\n",
    "    def fuel_type(self):\n",
    "        print(\"Petrol\")\n",
    "\n",
    "    def max_speed(self):\n",
    "        print(\"Max speed 350\")\n",
    "\n",
    "class BMW:\n",
    "    def fuel_type(self):\n",
    "        print(\"Diesel\")\n",
    "\n",
    "    def max_speed(self):\n",
    "        print(\"Max speed is 240\")\n",
    "\n",
    "ferrari = Ferrari()\n",
    "bmw = BMW()\n",
    "\n",
    "# iterate objects of same type\n",
    "for car in (ferrari, bmw):\n",
    "    # call methods without checking class of object\n",
    "    car.fuel_type()\n",
    "    car.max_speed()"
   ]
  },
  {
   "cell_type": "code",
   "execution_count": 17,
   "id": "active-folder",
   "metadata": {},
   "outputs": [
    {
     "name": "stdout",
     "output_type": "stream",
     "text": [
      "Petrol\n",
      "Max speed is 350\n",
      "Diesel\n",
      "Max speed is 250\n"
     ]
    }
   ],
   "source": [
    "# Polymorphism with Function and Objects\n",
    "\n",
    "class Ferrari:\n",
    "    def fuel_type(self):\n",
    "        print(\"Petrol\")\n",
    "        \n",
    "    def max_speed(self):\n",
    "        print(\"Max speed is 350\")\n",
    "\n",
    "class BMW:\n",
    "    def fuel_type(self):\n",
    "        print(\"Diesel\")\n",
    "        \n",
    "    def max_speed(self):\n",
    "        print(\"Max speed is 250\")\n",
    "\n",
    "def cars(obj):\n",
    "    obj.fuel_type()\n",
    "    obj.max_speed()\n",
    "    \n",
    "ferrari = Ferrari()\n",
    "bmw = BMW()\n",
    "\n",
    "cars(ferrari)\n",
    "cars(bmw)\n",
    "\n",
    "        "
   ]
  },
  {
   "cell_type": "code",
   "execution_count": 8,
   "id": "southern-portal",
   "metadata": {},
   "outputs": [
    {
     "name": "stdout",
     "output_type": "stream",
     "text": [
      "area 50\n"
     ]
    }
   ],
   "source": [
    "#Abstraction\n",
    "\n",
    "from abc import ABC,abstractmethod\n",
    "\n",
    "class Abs(ABC):\n",
    "    \n",
    "    @abstractmethod\n",
    "    def print_area(self):\n",
    "        None\n",
    "        \n",
    "        \n",
    "class con(Abs):\n",
    "    \n",
    "    def print_area(self):\n",
    "        self.len = 10\n",
    "        self.breadth = 5\n",
    "        print(\"area\",self.len*self.breadth)\n",
    "        \n",
    "\n",
    "        \n",
    "s1 = con()\n",
    "s1.print_area()\n",
    "\n"
   ]
  },
  {
   "cell_type": "code",
   "execution_count": null,
   "id": "eligible-trash",
   "metadata": {},
   "outputs": [],
   "source": []
  },
  {
   "cell_type": "code",
   "execution_count": null,
   "id": "enhanced-distributor",
   "metadata": {},
   "outputs": [],
   "source": []
  }
 ],
 "metadata": {
  "kernelspec": {
   "display_name": "Python 3",
   "language": "python",
   "name": "python3"
  },
  "language_info": {
   "codemirror_mode": {
    "name": "ipython",
    "version": 3
   },
   "file_extension": ".py",
   "mimetype": "text/x-python",
   "name": "python",
   "nbconvert_exporter": "python",
   "pygments_lexer": "ipython3",
   "version": "3.7.4"
  }
 },
 "nbformat": 4,
 "nbformat_minor": 5
}
