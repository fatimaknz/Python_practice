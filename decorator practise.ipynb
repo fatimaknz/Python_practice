{
 "cells": [
  {
   "cell_type": "code",
   "execution_count": 3,
   "id": "postal-interstate",
   "metadata": {},
   "outputs": [
    {
     "name": "stdout",
     "output_type": "stream",
     "text": [
      "I am going to the store buy you something nice.\n",
      "Don't forget to bring your wallet!\n"
     ]
    }
   ],
   "source": [
    "def friendly_reminder(func):\n",
    "    '''Reminder for husband'''\n",
    "\n",
    "    func()\n",
    "    print('Don\\'t forget to bring your wallet!')\n",
    "\n",
    "def action():\n",
    "\n",
    "    print('I am going to the store buy you something nice.')\n",
    "    \n",
    "    \n",
    "friendly_reminder(action)"
   ]
  },
  {
   "cell_type": "code",
   "execution_count": 4,
   "id": "sufficient-curtis",
   "metadata": {},
   "outputs": [
    {
     "name": "stdout",
     "output_type": "stream",
     "text": [
      "Function: daily_backup\n",
      "Run on: 2022-06-04 11:39:13\n",
      "------------------------------\n",
      "Daily backup job has finished.\n"
     ]
    }
   ],
   "source": [
    "from datetime import datetime\n",
    "\n",
    "\n",
    "def log_datetime(func):\n",
    "    '''Log the date and time of a function'''\n",
    "\n",
    "    def wrapper():\n",
    "        print(f'Function: {func.__name__}\\nRun on: {datetime.today().strftime(\"%Y-%m-%d %H:%M:%S\")}')\n",
    "        print(f'{\"-\"*30}')\n",
    "        func()\n",
    "    return wrapper\n",
    "\n",
    "\n",
    "@log_datetime\n",
    "def daily_backup():\n",
    "\n",
    "    print('Daily backup job has finished.')   \n",
    "\n",
    "     \n",
    "daily_backup()"
   ]
  },
  {
   "cell_type": "code",
   "execution_count": null,
   "id": "neither-shepherd",
   "metadata": {},
   "outputs": [],
   "source": []
  }
 ],
 "metadata": {
  "kernelspec": {
   "display_name": "Python 3",
   "language": "python",
   "name": "python3"
  },
  "language_info": {
   "codemirror_mode": {
    "name": "ipython",
    "version": 3
   },
   "file_extension": ".py",
   "mimetype": "text/x-python",
   "name": "python",
   "nbconvert_exporter": "python",
   "pygments_lexer": "ipython3",
   "version": "3.7.4"
  }
 },
 "nbformat": 4,
 "nbformat_minor": 5
}
