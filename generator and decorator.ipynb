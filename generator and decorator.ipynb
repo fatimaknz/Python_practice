{
 "cells": [
  {
   "cell_type": "code",
   "execution_count": 2,
   "id": "trying-edition",
   "metadata": {},
   "outputs": [
    {
     "name": "stdout",
     "output_type": "stream",
     "text": [
      "<class 'str'>\n"
     ]
    }
   ],
   "source": [
    "a =\"123\"\n",
    "print(type(a))"
   ]
  },
  {
   "cell_type": "code",
   "execution_count": 7,
   "id": "overall-testament",
   "metadata": {},
   "outputs": [
    {
     "name": "stdout",
     "output_type": "stream",
     "text": [
      "<class 'str_iterator'>\n"
     ]
    },
    {
     "data": {
      "text/plain": [
       "'K'"
      ]
     },
     "execution_count": 7,
     "metadata": {},
     "output_type": "execute_result"
    }
   ],
   "source": [
    "Myiter = iter(\"KGF\")\n",
    "print(type(Myiter))\n",
    "next(Myiter)\n"
   ]
  },
  {
   "cell_type": "markdown",
   "id": "enormous-austria",
   "metadata": {},
   "source": [
    "# Generator "
   ]
  },
  {
   "cell_type": "code",
   "execution_count": 22,
   "id": "compliant-sessions",
   "metadata": {},
   "outputs": [
    {
     "name": "stdout",
     "output_type": "stream",
     "text": [
      "5 x 1 =  5\n",
      "5 x 2 =  10\n",
      "5 x 3 =  15\n",
      "5 x 4 =  20\n",
      "5 x 5 =  25\n",
      "5 x 6 =  30\n",
      "5 x 7 =  35\n",
      "5 x 8 =  40\n",
      "5 x 9 =  45\n",
      "5 x 10 =  50\n"
     ]
    }
   ],
   "source": [
    "def tbl(n):\n",
    "    for i in range(1,11):\n",
    "        a = n*i\n",
    "        print(f\"{n} x {i} = \",a)\n",
    "        \n",
    "tbl(5)"
   ]
  },
  {
   "cell_type": "code",
   "execution_count": 25,
   "id": "apparent-prescription",
   "metadata": {},
   "outputs": [
    {
     "name": "stdout",
     "output_type": "stream",
     "text": [
      "1\n",
      "4\n",
      "9\n",
      "16\n",
      "25\n",
      "36\n",
      "49\n",
      "64\n",
      "81\n",
      "100\n"
     ]
    }
   ],
   "source": [
    "#using genrator\n",
    "\n",
    "def square():\n",
    "    i = 1\n",
    "    while True:\n",
    "        yield i*i #pause\n",
    "        i+=1\n",
    "\n",
    "for num in sqaure():\n",
    "    if num >100:\n",
    "        break\n",
    "    print(i)\n"
   ]
  },
  {
   "cell_type": "code",
   "execution_count": 30,
   "id": "russian-hepatitis",
   "metadata": {},
   "outputs": [
    {
     "name": "stdout",
     "output_type": "stream",
     "text": [
      "{'anam': 20, 'Saurabh': 22, 'raza': 23, 'Nabeel': 25}\n"
     ]
    }
   ],
   "source": [
    "mydict = {\"anam\":20,\"Saurabh\":22,\"raza\":23}\n",
    "\n",
    "#1.\n",
    "# for x,y in mydict.items():\n",
    "#     print(x,y)\n",
    "\n",
    "#2.\n",
    "mydict[\"Nabeel\"] = 25\n",
    "print(mydict) \n",
    "#or\n",
    "\n",
    "# mydict.upadte({'Nabeel':25})"
   ]
  },
  {
   "cell_type": "code",
   "execution_count": 7,
   "id": "separate-postage",
   "metadata": {},
   "outputs": [
    {
     "name": "stdout",
     "output_type": "stream",
     "text": [
      "I am going to divide 2 and 0\n",
      "Whoops! cannot divide\n"
     ]
    }
   ],
   "source": [
    "def smart_divide(func):\n",
    "    def inner(a, b):\n",
    "        print(\"I am going to divide\", a, \"and\", b)\n",
    "        if b == 0:\n",
    "            print(\"Whoops! cannot divide\")\n",
    "        else:\n",
    "            return func(a, b)\n",
    "    return inner\n",
    "\n",
    "\n",
    "@smart_divide\n",
    "def divide(a, b):\n",
    "    print(a/b)\n",
    "\n",
    "divide(2,0)"
   ]
  },
  {
   "cell_type": "code",
   "execution_count": null,
   "id": "bacterial-consumer",
   "metadata": {},
   "outputs": [],
   "source": []
  }
 ],
 "metadata": {
  "kernelspec": {
   "display_name": "Python 3",
   "language": "python",
   "name": "python3"
  },
  "language_info": {
   "codemirror_mode": {
    "name": "ipython",
    "version": 3
   },
   "file_extension": ".py",
   "mimetype": "text/x-python",
   "name": "python",
   "nbconvert_exporter": "python",
   "pygments_lexer": "ipython3",
   "version": "3.7.4"
  }
 },
 "nbformat": 4,
 "nbformat_minor": 5
}
