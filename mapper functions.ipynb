{
 "cells": [
  {
   "cell_type": "markdown",
   "id": "structural-treasury",
   "metadata": {},
   "source": [
    "### Map"
   ]
  },
  {
   "cell_type": "code",
   "execution_count": 30,
   "id": "three-century",
   "metadata": {},
   "outputs": [
    {
     "name": "stdout",
     "output_type": "stream",
     "text": [
      "[7, 9, 11, 13]\n",
      "<class 'map'>\n"
     ]
    }
   ],
   "source": [
    "def add(a,b):\n",
    "    return a+b\n",
    "\n",
    "res = map(add , [1,2,3,4,],[6,7,8,9])\n",
    "print(list(res))\n",
    "print(type(res))"
   ]
  },
  {
   "cell_type": "markdown",
   "id": "close-combining",
   "metadata": {},
   "source": [
    "#### Task "
   ]
  },
  {
   "cell_type": "code",
   "execution_count": 6,
   "id": "interior-ceramic",
   "metadata": {},
   "outputs": [
    {
     "name": "stdout",
     "output_type": "stream",
     "text": [
      "enter four numbers: 3\n",
      "enter four numbers: 4\n",
      "enter four numbers: 5\n",
      "enter four numbers: 6\n",
      "[2, 8, 18, 32]\n"
     ]
    }
   ],
   "source": [
    "l = []\n",
    "for i in range(1,5):\n",
    "    user = int(input(\"enter four numbers: \"))\n",
    "    l.append(i)\n",
    "# print (l)\n",
    "\n",
    "def func(n):\n",
    "    res=n+n\n",
    "    return res*n\n",
    "z = list(map(func,l))\n",
    "print(z)"
   ]
  },
  {
   "cell_type": "code",
   "execution_count": 7,
   "id": "underlying-healthcare",
   "metadata": {},
   "outputs": [
    {
     "name": "stdout",
     "output_type": "stream",
     "text": [
      "1234\n"
     ]
    },
    {
     "data": {
      "text/plain": [
       "[2, 8, 18, 32]"
      ]
     },
     "execution_count": 7,
     "metadata": {},
     "output_type": "execute_result"
    }
   ],
   "source": [
    "def add():\n",
    "    return lambda x: x+x\n",
    "\n",
    "def sqr():\n",
    "    return lambda x:x*x\n",
    "\n",
    "func = [add(),sqr()]\n",
    "\n",
    "def cmp(func,arr):\n",
    "    result = list(map(func[1],arr))\n",
    "    final = list(map(func[0],result))\n",
    "    return final\n",
    "\n",
    "arr = list(map(int,input()))\n",
    "\n",
    "cmp(func,arr)"
   ]
  },
  {
   "cell_type": "markdown",
   "id": "combined-duration",
   "metadata": {},
   "source": [
    "### Reduce "
   ]
  },
  {
   "cell_type": "code",
   "execution_count": 4,
   "id": "finite-bicycle",
   "metadata": {},
   "outputs": [
    {
     "name": "stdout",
     "output_type": "stream",
     "text": [
      "<class 'list'>\n",
      "[1, 2, 3, 4, 5, 6, 7, 8, 9]\n"
     ]
    }
   ],
   "source": [
    "from functools import reduce\n",
    "\n",
    "# a 2D list \n",
    "matrix = [[1, 2, 3], [4, 5, 6], [7, 8, 9]] \n",
    "\n",
    "# using reduce function for flattening a 2D list\n",
    "r = reduce(lambda x, y: x + y, matrix)\n",
    "print(type(r))\n",
    "\n",
    "# using list comprehension\n",
    "print([i for row in matrix for i in row])\n"
   ]
  },
  {
   "cell_type": "code",
   "execution_count": 2,
   "id": "charitable-challenge",
   "metadata": {},
   "outputs": [
    {
     "name": "stdout",
     "output_type": "stream",
     "text": [
      "10\n"
     ]
    }
   ],
   "source": [
    "from functools import reduce\n",
    "def add(a,b):\n",
    "    return a+b\n",
    "\n",
    "res = reduce(add,[1,2,3,4])\n",
    "print(res)"
   ]
  },
  {
   "cell_type": "markdown",
   "id": "under-diversity",
   "metadata": {},
   "source": [
    "### Bisect"
   ]
  },
  {
   "cell_type": "code",
   "execution_count": 9,
   "id": "sophisticated-accuracy",
   "metadata": {},
   "outputs": [
    {
     "name": "stdout",
     "output_type": "stream",
     "text": [
      "10\n",
      "[1, 2, 3, 4, 5, 5, 5, 6, 6, 6, 7, 8]\n"
     ]
    }
   ],
   "source": [
    "import bisect \n",
    "l = [1,2,3,4,5,5,5,6,6,6,8]\n",
    "x = 7\n",
    "r = bisect.bisect_right(l,x)\n",
    "print(r)\n",
    "\n",
    "l.insert(r,x)\n",
    "print(l)"
   ]
  },
  {
   "cell_type": "code",
   "execution_count": 10,
   "id": "capable-finding",
   "metadata": {},
   "outputs": [
    {
     "name": "stdout",
     "output_type": "stream",
     "text": [
      "[2, 4, 6, 8, 8, 8, 8, 10, 12, 14]\n"
     ]
    }
   ],
   "source": [
    "import bisect\n",
    "\n",
    "a = [2, 4, 6, 8, 8, 8, 10, 12, 14]\n",
    "x = 8\n",
    "bisect.insort_left(a, x)\n",
    "print(a)"
   ]
  },
  {
   "cell_type": "markdown",
   "id": "willing-crawford",
   "metadata": {},
   "source": [
    "### join"
   ]
  },
  {
   "cell_type": "code",
   "execution_count": 11,
   "id": "simple-victory",
   "metadata": {},
   "outputs": [
    {
     "name": "stdout",
     "output_type": "stream",
     "text": [
      "John#Peter#Vicky\n"
     ]
    }
   ],
   "source": [
    "myTuple = (\"John\", \"Peter\", \"Vicky\")\n",
    "\n",
    "x = \"#\".join(myTuple)\n",
    "\n",
    "print(x)"
   ]
  },
  {
   "cell_type": "markdown",
   "id": "historical-guyana",
   "metadata": {},
   "source": [
    "### filter"
   ]
  },
  {
   "cell_type": "code",
   "execution_count": 32,
   "id": "utility-lafayette",
   "metadata": {},
   "outputs": [
    {
     "name": "stdout",
     "output_type": "stream",
     "text": [
      "18\n",
      "24\n",
      "32\n"
     ]
    }
   ],
   "source": [
    "ages = [5, 12, 17, 18, 24, 32]\n",
    "\n",
    "def myFunc(x):\n",
    "  if x < 18:\n",
    "    return False\n",
    "  else:\n",
    "    return True\n",
    "\n",
    "adults = filter(myFunc, ages) #-------- filter is \n",
    "# ------------- adults is an object -------- filter returns object----->filter object <03899098xx9t58>\n",
    "\n",
    "for x in adults:\n",
    "  print(x)"
   ]
  },
  {
   "cell_type": "markdown",
   "id": "standing-spine",
   "metadata": {},
   "source": [
    "### Zip"
   ]
  },
  {
   "cell_type": "code",
   "execution_count": 15,
   "id": "professional-czech",
   "metadata": {},
   "outputs": [
    {
     "name": "stdout",
     "output_type": "stream",
     "text": [
      "[('John', 'Jenny'), ('Charles', 'Christy'), ('Mike', 'Monica')]\n"
     ]
    }
   ],
   "source": [
    "a = (\"John\", \"Charles\", \"Mike\")\n",
    "b = (\"Jenny\", \"Christy\", \"Monica\")\n",
    "\n",
    "x = zip(a, b)\n",
    "print(list(x))"
   ]
  },
  {
   "cell_type": "code",
   "execution_count": 28,
   "id": "dutch-manchester",
   "metadata": {},
   "outputs": [
    {
     "name": "stdout",
     "output_type": "stream",
     "text": [
      "<class 'set'>\n"
     ]
    }
   ],
   "source": [
    "a= {i**2 for i in range(10)}\n",
    "print(type(a))\n"
   ]
  },
  {
   "cell_type": "code",
   "execution_count": 26,
   "id": "twelve-compound",
   "metadata": {},
   "outputs": [
    {
     "name": "stdout",
     "output_type": "stream",
     "text": [
      "<class 'dict'>\n"
     ]
    }
   ],
   "source": [
    "myDict = {x: x**2 for x in [1,2,3,4,5]}\n",
    "print (type(myDict))"
   ]
  },
  {
   "cell_type": "code",
   "execution_count": 15,
   "id": "behavioral-thursday",
   "metadata": {},
   "outputs": [
    {
     "name": "stdout",
     "output_type": "stream",
     "text": [
      "[2, 4]\n"
     ]
    }
   ],
   "source": [
    "n = [1,2,3,4,5]\n",
    "even = filter((lambda n: n%2 == 0),n)\n",
    "var = list(even)\n",
    "print(var)"
   ]
  }
 ],
 "metadata": {
  "kernelspec": {
   "display_name": "Python 3",
   "language": "python",
   "name": "python3"
  },
  "language_info": {
   "codemirror_mode": {
    "name": "ipython",
    "version": 3
   },
   "file_extension": ".py",
   "mimetype": "text/x-python",
   "name": "python",
   "nbconvert_exporter": "python",
   "pygments_lexer": "ipython3",
   "version": "3.7.4"
  }
 },
 "nbformat": 4,
 "nbformat_minor": 5
}
