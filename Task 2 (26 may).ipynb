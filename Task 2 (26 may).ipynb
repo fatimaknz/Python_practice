{
 "cells": [
  {
   "cell_type": "markdown",
   "id": "affected-myanmar",
   "metadata": {},
   "source": [
    "# Tuple"
   ]
  },
  {
   "cell_type": "markdown",
   "id": "unauthorized-laptop",
   "metadata": {},
   "source": [
    "## a. To create a tuple having a number from 1-20. Print the half of its value in 1 line and other half in next line ."
   ]
  },
  {
   "cell_type": "code",
   "execution_count": 1,
   "id": "major-array",
   "metadata": {},
   "outputs": [
    {
     "name": "stdout",
     "output_type": "stream",
     "text": [
      "(1, 2, 3, 4, 5, 6, 7, 8, 9, 10)\n",
      "(11, 12, 13, 14, 15, 16, 17, 18, 19, 20)\n"
     ]
    }
   ],
   "source": [
    "t = (1,2,3,4,5,6,7,8,9,10,11,12,13,14,15,16,17,18,19,20)\n",
    "print(t[0:10] )\n",
    "print(t[10:20])"
   ]
  },
  {
   "cell_type": "markdown",
   "id": "exciting-aaron",
   "metadata": {},
   "source": [
    "## b. To create a tuple consisting of 20 number from a user. Create  another tuple whose values are even number in the first tuple."
   ]
  },
  {
   "cell_type": "code",
   "execution_count": 15,
   "id": "corrected-concentration",
   "metadata": {},
   "outputs": [
    {
     "name": "stdout",
     "output_type": "stream",
     "text": [
      "Enter the number of elements 20\n",
      "1\n",
      "2\n",
      "3\n",
      "4\n",
      "5\n",
      "6\n",
      "7\n",
      "8\n",
      "9\n",
      "10\n",
      "11\n",
      "12\n",
      "13\n",
      "14\n",
      "15\n",
      "16\n",
      "17\n",
      "18\n",
      "19\n",
      "20\n",
      "Tuple 1 :  (1, 2, 3, 4, 5, 6, 7, 8, 9, 10, 11, 12, 13, 14, 15, 16, 17, 18, 19, 20)\n",
      "Tuple 2 (even):  (2, 4, 6, 8, 10, 12, 14, 16, 18, 20)\n"
     ]
    }
   ],
   "source": [
    "#taking input form user and appending it to my_list\n",
    "mylist = []\n",
    "n = int(input(\"Enter the number of elements \"))\n",
    "for i in range(0,n):\n",
    "    element = int(input())\n",
    "    mylist.append(element)\n",
    "print(\"Tuple 1 : \",tuple(mylist))\n",
    "\n",
    "\n",
    "#Creating tuple of even numbers\n",
    "l = []\n",
    "for i in mylist:\n",
    "    if i % 2 == 0:\n",
    "        l.append(i)\n",
    "print(\"Tuple 2 (even): \",tuple(l))"
   ]
  },
  {
   "cell_type": "markdown",
   "id": "mineral-width",
   "metadata": {},
   "source": [
    "# c. To concatenate two tuples ."
   ]
  },
  {
   "cell_type": "code",
   "execution_count": 5,
   "id": "generic-brown",
   "metadata": {},
   "outputs": [
    {
     "name": "stdout",
     "output_type": "stream",
     "text": [
      "('A', 'B', 'C', 'D', 'Apple', 'Ball', 'Cat', 'Dog')\n"
     ]
    }
   ],
   "source": [
    "t1 = (\"A\",\"B\",\"C\",\"D\")\n",
    "t2 = (\"Apple\",\"Ball\",\"Cat\",\"Dog\")\n",
    "t3 = t1+t2\n",
    "print(t3)\n"
   ]
  },
  {
   "cell_type": "markdown",
   "id": "advance-ghost",
   "metadata": {},
   "source": [
    "## d. To check whether a given element is present in tuple or not ."
   ]
  },
  {
   "cell_type": "code",
   "execution_count": 9,
   "id": "excellent-settle",
   "metadata": {},
   "outputs": [
    {
     "data": {
      "text/plain": [
       "True"
      ]
     },
     "execution_count": 9,
     "metadata": {},
     "output_type": "execute_result"
    }
   ],
   "source": [
    "t4 = (\"Apple\",\"Ball\",\"Cat\",\"Dog\")\n",
    "\"Cat\" in t4 "
   ]
  },
  {
   "cell_type": "markdown",
   "id": "electoral-developer",
   "metadata": {},
   "source": [
    "## e. To use the following methods on a tuple in the program: cmp(t1,t2)/t1==t2 ,len(t1) , zip(t1,t2) , max(t) , min(t) , tuple()"
   ]
  },
  {
   "cell_type": "code",
   "execution_count": 13,
   "id": "absolute-recorder",
   "metadata": {},
   "outputs": [
    {
     "name": "stdout",
     "output_type": "stream",
     "text": [
      "Is t1 is equal to t2:  False\n",
      "Length of t1 is:  4\n",
      "using zip():  (('A', 'Apple'), ('B', 'Ball'), ('C', 'Cat'), ('D', 'Dog'))\n",
      "Maximum value in t1:  D\n",
      "Minimum value in t1:  A\n",
      "(1, 2, 3, 4, 5)\n"
     ]
    }
   ],
   "source": [
    "t1 = (\"A\",\"B\",\"C\",\"D\")\n",
    "t2 = (\"Apple\",\"Ball\",\"Cat\",\"Dog\")\n",
    "li = [1,2,3,4,5]\n",
    "print(\"Is t1 is equal to t2: \", t1==t2)\n",
    "print(\"Length of t1 is: \", len(t1))\n",
    "print(\"using zip(): \", tuple(zip(t1,t2)))\n",
    "print(\"Maximum value in t1: \", max(t1))\n",
    "print(\"Minimum value in t1: \", min(t1))\n",
    "print(tuple(li))"
   ]
  },
  {
   "cell_type": "markdown",
   "id": "random-victorian",
   "metadata": {},
   "source": [
    "# Dictionary"
   ]
  },
  {
   "cell_type": "markdown",
   "id": "final-designer",
   "metadata": {},
   "source": [
    "## f. To create a dictionary with any five key value pair . print the dictionary . Add an element in a given dictionary and delete an element."
   ]
  },
  {
   "cell_type": "code",
   "execution_count": 20,
   "id": "actual-scanner",
   "metadata": {},
   "outputs": [
    {
     "name": "stdout",
     "output_type": "stream",
     "text": [
      "{'A': 'Apple', 'B': 'Ball', 'C': 'Cat', 'D': 'Dog', 'E': 'Egg'}\n",
      "{'A': 'Apple', 'B': 'Ball', 'C': 'Cat', 'D': 'Dog', 'E': 'Egg', 'F': 'Fish'}\n",
      "{'A': 'Apple', 'B': 'Ball', 'C': 'Cat', 'D': 'Dog', 'E': 'Egg'}\n"
     ]
    }
   ],
   "source": [
    "myDict = {\"A\" :\"Apple\", \"B\":\"Ball\", \"C\":\"Cat\", \"D\":\"Dog\", \"E\":\"Egg\"}\n",
    "print(myDict)\n",
    "myDict[\"F\"] = \"Fish\"\n",
    "print(myDict)\n",
    "myDict.pop(\"F\")\n",
    "print(myDict)"
   ]
  },
  {
   "cell_type": "markdown",
   "id": "spanish-assessment",
   "metadata": {},
   "source": [
    "## g. To create 2 dictionaries using dictionary comprehension method. "
   ]
  },
  {
   "cell_type": "code",
   "execution_count": 25,
   "id": "given-celebration",
   "metadata": {},
   "outputs": [
    {
     "name": "stdout",
     "output_type": "stream",
     "text": [
      "Enter range: 6\n",
      "{0: 0, 1: 1, 2: 4, 3: 9, 4: 16, 5: 25}\n",
      "{1: 1, 3: 9, 5: 25}\n"
     ]
    }
   ],
   "source": [
    "n = int(input(\"Enter range: \"))\n",
    "\n",
    "#Dict 1\n",
    "Squares = {x:x*x for x in range(0,n)}\n",
    "print(Squares)\n",
    "\n",
    "#Dict 2\n",
    "odd_square = {x:x*x for x in range(0,n) if x % 2 !=0}\n",
    "print(odd_square)"
   ]
  },
  {
   "cell_type": "markdown",
   "id": "destroyed-welding",
   "metadata": {},
   "source": [
    "## h. To demonstrate any five methods on dictionary "
   ]
  },
  {
   "cell_type": "code",
   "execution_count": 44,
   "id": "driving-movement",
   "metadata": {},
   "outputs": [
    {
     "name": "stdout",
     "output_type": "stream",
     "text": [
      "Copy of dict:  {'A': 'Apple', 'B': 'Ball', 'C': 'Cat', 'D': 'Dog', 'E': 'Egg'}\n",
      "updated dict:  {'A': 'Apple', 'B': 'Ball', 'C': 'Cat', 'D': 'Dog', 'E': 'Elephant'}\n",
      "All items in dict:  dict_items([('A', 'Apple'), ('B', 'Ball'), ('C', 'Cat'), ('D', 'Dog'), ('E', 'Elephant')])\n",
      "keys of dict:  dict_keys(['A', 'B', 'C', 'D', 'E'])\n",
      "Dict after pop an item:  {'A': 'Apple', 'B': 'Ball', 'C': 'Cat', 'D': 'Dog'}\n"
     ]
    }
   ],
   "source": [
    "Dict = {\"A\" :\"Apple\", \"B\":\"Ball\", \"C\":\"Cat\", \"D\":\"Dog\", \"E\":\"Egg\"}\n",
    "\n",
    "print(\"Copy of dict: \", Dict.copy())\n",
    "\n",
    "Dict.update({\"E\":\"Elephant\"})\n",
    "print(\"updated dict: \", Dict)\n",
    "\n",
    "i = Dict.items()\n",
    "print(\"All items in dict: \", i)\n",
    "\n",
    "k = Dict.keys()\n",
    "print(\"keys of dict: \", k)\n",
    "\n",
    "p = Dict.pop(\"E\")\n",
    "print(\"Dict after pop an item: \", Dict)\n"
   ]
  },
  {
   "cell_type": "markdown",
   "id": "universal-washer",
   "metadata": {},
   "source": [
    "## i. To demonstrate 5 methods of python data structure set."
   ]
  },
  {
   "cell_type": "code",
   "execution_count": 54,
   "id": "caring-filter",
   "metadata": {},
   "outputs": [
    {
     "name": "stdout",
     "output_type": "stream",
     "text": [
      "{1, 2, 'apple', 3, 4, 5, 6, 7, 'kiwi', 'pear', 'cherry', 'mango'}\n",
      "{1, 2, 'apple', 3, 4, 5, 6, 7, 'kiwi', 'pear', 'cherry', 'mango'}\n"
     ]
    },
    {
     "data": {
      "text/plain": [
       "False"
      ]
     },
     "execution_count": 54,
     "metadata": {},
     "output_type": "execute_result"
    }
   ],
   "source": [
    "s1 = {\"apple\",1,\"mango\",2,\"cherry\",3,\"kiwi\",4}\n",
    "s2 ={1,2,3,4,5,6,7,\"apple\",\"pear\"}\n",
    "\n",
    "# s1.union(s2)\n",
    "\n",
    "# s1.intersection(s2)\n",
    "\n",
    "# s2.difference(s1)\n",
    "\n",
    "# s1.update(s2)\n",
    "# print(s1)\n",
    "\n",
    "s1.issubset(s2)\n",
    "\n"
   ]
  },
  {
   "cell_type": "markdown",
   "id": "efficient-governor",
   "metadata": {},
   "source": [
    "## j. To implement caser cipher using dictionary"
   ]
  },
  {
   "cell_type": "code",
   "execution_count": 69,
   "id": "honest-waterproof",
   "metadata": {},
   "outputs": [
    {
     "name": "stdout",
     "output_type": "stream",
     "text": [
      "Enter the message to decode: mjqqt\n",
      "Enter the number of shift: 5\n",
      "rovvy\n",
      "rovvy\n",
      "rovvy\n",
      "rovvy\n",
      "rovvy\n",
      "rovvy\n",
      "rovvy\n",
      "rovvy\n",
      "rovvy\n",
      "rovvy\n",
      "rovvy\n",
      "rovvy\n",
      "rovvy\n",
      "rovvy\n",
      "rovvy\n",
      "rovvy\n",
      "rovvy\n",
      "rovvy\n",
      "rovvy\n",
      "rovvy\n",
      "rovvy\n",
      "rovvy\n",
      "rovvy\n",
      "rovvy\n",
      "rovvy\n",
      "rovvy\n"
     ]
    }
   ],
   "source": [
    "alphabets=\"abcdefghijklmnopqrstuvwxyz\"              # Predefined data to update the message\n",
    "message=input(\"Enter the message to decode: \")     # Ask the user to enter the message\n",
    "key=int(input(\"Enter the number of shift: \"))\n",
    "trans = {}\n",
    "\n",
    "#Creating dictionary\n",
    "def create_dict(key):\n",
    "    for i in range(0,26):\n",
    "        letter = alphabets[i]\n",
    "        trans[letter]=alphabets[(i+key)%26]\n",
    "   \n",
    "\n",
    "    \n",
    "def decode_msg(message):\n",
    "    cipher = \"\" \n",
    "    for letter in message:\n",
    "        if letter in trans:\n",
    "            letter = trans[letter]\n",
    "            cipher += letter\n",
    "        else:\n",
    "            cipher += \" \"       \n",
    "    print(cipher)\n",
    "    \n",
    "for i in range(0,26):\n",
    "    create_dict(key)\n",
    "    decode_msg(message)\n",
    "        \n"
   ]
  },
  {
   "cell_type": "code",
   "execution_count": null,
   "id": "terminal-dealing",
   "metadata": {},
   "outputs": [],
   "source": []
  },
  {
   "cell_type": "code",
   "execution_count": null,
   "id": "accomplished-burning",
   "metadata": {},
   "outputs": [],
   "source": []
  }
 ],
 "metadata": {
  "kernelspec": {
   "display_name": "Python 3",
   "language": "python",
   "name": "python3"
  },
  "language_info": {
   "codemirror_mode": {
    "name": "ipython",
    "version": 3
   },
   "file_extension": ".py",
   "mimetype": "text/x-python",
   "name": "python",
   "nbconvert_exporter": "python",
   "pygments_lexer": "ipython3",
   "version": "3.7.4"
  }
 },
 "nbformat": 4,
 "nbformat_minor": 5
}
