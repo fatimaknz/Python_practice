{
 "cells": [
  {
   "cell_type": "markdown",
   "id": "attractive-wellington",
   "metadata": {},
   "source": [
    "## 1. Write a Python program to combine two dictionary adding values for common keys.\n",
    "d1 = {'a': 100, 'b': 200, 'c':300}\n",
    "d2 = {'a': 300, 'b': 200, 'd':400}\n",
    "Sample output: Counter({'a': 400, 'b': 400, 'd': 400, 'c': 300})"
   ]
  },
  {
   "cell_type": "code",
   "execution_count": 18,
   "id": "presidential-library",
   "metadata": {},
   "outputs": [
    {
     "name": "stdout",
     "output_type": "stream",
     "text": [
      "{'a': 400, 'b': 400, 'c': 300, 'd': 400}\n"
     ]
    }
   ],
   "source": [
    "d1 = {'a': 100, 'b': 200, 'c':300} \n",
    "d2 = {'a': 300, 'b': 200, 'd':400} \n",
    "d3 = dict(d1)\n",
    "d3.update(d2)\n",
    "for i,j in d1.items() :\n",
    "    for x,y in d2.items():\n",
    "        if i == x:\n",
    "            d3[i] = j+y\n",
    "print(d3)"
   ]
  },
  {
   "cell_type": "code",
   "execution_count": 16,
   "id": "biblical-casino",
   "metadata": {},
   "outputs": [
    {
     "name": "stdout",
     "output_type": "stream",
     "text": [
      "Counter({'a': 400, 'b': 400, 'd': 400, 'c': 300})\n"
     ]
    }
   ],
   "source": [
    "from collections import Counter\n",
    "d3 = Counter(d1)+Counter(d2)\n",
    "print(d3)"
   ]
  },
  {
   "cell_type": "markdown",
   "id": "several-desktop",
   "metadata": {},
   "source": [
    "## 2. Write a Python program to print all unique values in a dictionary. \n",
    "Sample Data : [{\"V\":\"S001\"}, {\"V\": \"S002\"}, {\"VI\": \"S001\"}, {\"VI\": \"S005\"}, {\"VII\":\"S005\"}, {\"V\":\"S009\"},{\"VIII\":\"S007\"}]\n",
    "Expected Output : Unique Values: {'S005', 'S002', 'S007', 'S001', 'S009'}"
   ]
  },
  {
   "cell_type": "code",
   "execution_count": 3,
   "id": "dangerous-attention",
   "metadata": {},
   "outputs": [
    {
     "name": "stdout",
     "output_type": "stream",
     "text": [
      "{'S002', 'S001', 'S007', 'S009', 'S005'}\n"
     ]
    }
   ],
   "source": [
    "Sample_Data = [{\"V\":\"S001\"}, {\"V\": \"S002\"}, {\"VI\": \"S001\"}, {\"VI\": \"S005\"}, {\"VII\":\"S005\"}, {\"V\":\"S009\"},{\"VIII\":\"S007\"}]\n",
    "data = set(val for i in Sample_Data for val in i.values())\n",
    "print(data)"
   ]
  },
  {
   "cell_type": "code",
   "execution_count": 1,
   "id": "lyric-blogger",
   "metadata": {},
   "outputs": [
    {
     "name": "stdout",
     "output_type": "stream",
     "text": [
      "{'S002', 'S001', 'S007', 'S009', 'S005'}\n"
     ]
    }
   ],
   "source": [
    "Sample_Data = [{\"V\":\"S001\"}, {\"V\": \"S002\"}, {\"VI\": \"S001\"}, {\"VI\": \"S005\"}, {\"VII\":\"S005\"}, {\"V\":\"S009\"},{\"VIII\":\"S007\"}]\n",
    "new = []\n",
    "for i in Sample_Data:\n",
    "    for j in i.values():\n",
    "        new.append(j)  \n",
    "print(set(new))"
   ]
  },
  {
   "cell_type": "markdown",
   "id": "celtic-procedure",
   "metadata": {},
   "source": [
    "## 3. Write a Python program to create and display all combinations of letters, selecting each letter from a different key in a dictionary. \n",
    "Sample data : {'1':['a','b'], '2':['c','d']}\n",
    "Expected Output:\n",
    "ac\n",
    "\n",
    "ad\n",
    "bc\n",
    "bd"
   ]
  },
  {
   "cell_type": "code",
   "execution_count": 43,
   "id": "blond-demand",
   "metadata": {},
   "outputs": [
    {
     "name": "stdout",
     "output_type": "stream",
     "text": [
      "ac\n",
      "ad\n",
      "bc\n",
      "bd\n"
     ]
    }
   ],
   "source": [
    "data = {'1':['a','b'], '2':['c','d']}\n",
    "for x in data['1']:\n",
    "    for y in data['2']:\n",
    "        print(x+y)"
   ]
  },
  {
   "cell_type": "code",
   "execution_count": 58,
   "id": "fancy-drove",
   "metadata": {},
   "outputs": [
    {
     "name": "stdout",
     "output_type": "stream",
     "text": [
      "ac\n",
      "ad\n",
      "bc\n",
      "bd\n"
     ]
    }
   ],
   "source": [
    "data = {'1':['a','b'], '2':['c','d']}\n",
    "l = []\n",
    "for i in data.values():\n",
    "    l.append(i)\n",
    "\n",
    "resList = [x+y for x in l[0] for y in l[1]]\n",
    "for j in resList:\n",
    "    print(j)"
   ]
  },
  {
   "cell_type": "code",
   "execution_count": 44,
   "id": "eleven-alloy",
   "metadata": {},
   "outputs": [
    {
     "name": "stdout",
     "output_type": "stream",
     "text": [
      "ac\n",
      "ad\n",
      "bc\n",
      "bd\n"
     ]
    }
   ],
   "source": [
    "data = {'1':['a','b'], '2':['c','d']}\n",
    "l = []\n",
    "for i in data.values():\n",
    "    l.append(i)\n",
    "print(l[0][0]+l[1][0])\n",
    "print(l[0][0]+l[1][1])\n",
    "print(l[0][1]+l[1][0])\n",
    "print(l[0][1]+l[1][1])"
   ]
  },
  {
   "cell_type": "code",
   "execution_count": 16,
   "id": "directed-technician",
   "metadata": {},
   "outputs": [
    {
     "name": "stdout",
     "output_type": "stream",
     "text": [
      "ac\n",
      "ad\n",
      "bc\n",
      "bd\n"
     ]
    }
   ],
   "source": [
    "import itertools      \n",
    "d ={'1':['a','b'], '2':['c','d']}\n",
    "for combo in itertools.product(*[d[k] for k in sorted(d.keys())]):\n",
    "    print(''.join(combo))"
   ]
  },
  {
   "cell_type": "markdown",
   "id": "lasting-repeat",
   "metadata": {},
   "source": [
    "## 4. Write a Python program to find the highest 3 values of corresponding keys in a dictionary.  "
   ]
  },
  {
   "cell_type": "code",
   "execution_count": 93,
   "id": "exotic-developer",
   "metadata": {},
   "outputs": [
    {
     "name": "stdout",
     "output_type": "stream",
     "text": [
      "69\n",
      "67\n",
      "56\n"
     ]
    }
   ],
   "source": [
    "my_dict = {'A': 67, 'B': 23, 'C': 45, 'D': 56, 'E': 12, 'F': 69} \n",
    "\n",
    "a=1\n",
    "while (a<=3):\n",
    "    print(sorted(my_dict.values())[-a])\n",
    "    a+=1"
   ]
  },
  {
   "cell_type": "code",
   "execution_count": 3,
   "id": "express-mounting",
   "metadata": {},
   "outputs": [
    {
     "name": "stdout",
     "output_type": "stream",
     "text": [
      "['b', 'e', 'c']\n"
     ]
    }
   ],
   "source": [
    "from heapq import nlargest\n",
    "my_dict = {'a':500, 'b':5874, 'c': 560,'d':400, 'e':5874, 'f': 20}  \n",
    "three_largest = nlargest(3, my_dict, key=my_dict.get)\n",
    "print(three_largest) "
   ]
  },
  {
   "cell_type": "markdown",
   "id": "stainless-surrey",
   "metadata": {},
   "source": [
    "## 5. Write a Python program to combine values in python list of dictionaries.\n",
    "Sample data: [{'item': 'item1', 'amount': 400}, {'item': 'item2', 'amount': 300}, {'item': 'item1', 'amount': 750}]\n",
    "Expected Output: Counter({'item1': 1150, 'item2': 300})\n"
   ]
  },
  {
   "cell_type": "code",
   "execution_count": 134,
   "id": "cross-amazon",
   "metadata": {},
   "outputs": [
    {
     "name": "stdout",
     "output_type": "stream",
     "text": [
      "{'item1': 1150, 'item2': 300}\n"
     ]
    }
   ],
   "source": [
    "sample_data = [{'item': 'item1', 'amount': 400}, {'item': 'item2', 'amount': 300}, {'item': 'item1', 'amount': 750}] \n",
    "\n",
    "cp={}\n",
    "\n",
    "for i in sample_data:\n",
    "    if i['item'] not in cp:\n",
    "        cp[i['item']] = i['amount']\n",
    "    else:\n",
    "        cp[i['item']] += i['amount'] \n",
    "print(cp) \n"
   ]
  },
  {
   "cell_type": "markdown",
   "id": "based-sweet",
   "metadata": {},
   "source": [
    "## 6. Write a Python program to create a dictionary from a string.\n",
    "Note: Track the count of the letters from the string.\n",
    "Sample string : 'w3resource'\n",
    "Expected output: {'w': 1, '3': 1, 'r': 2, 'e': 2, 's': 1, 'o': 1, 'u': 1, 'c': 1}\n"
   ]
  },
  {
   "cell_type": "code",
   "execution_count": 2,
   "id": "prepared-proxy",
   "metadata": {},
   "outputs": [
    {
     "name": "stdout",
     "output_type": "stream",
     "text": [
      "{'w': 1, '3': 1, 'r': 2, 'e': 2, 's': 1, 'o': 1, 'u': 1, 'c': 1}\n"
     ]
    }
   ],
   "source": [
    "Sample_string = 'w3resource'\n",
    "dict1 = {}\n",
    "\n",
    "count = 0\n",
    "for i in Sample_string:\n",
    "    if i not in dict1:\n",
    "        dict1[i] = count+1\n",
    "    else:\n",
    "        dict1[i] += count+1\n",
    "print(dict1)\n",
    "        "
   ]
  },
  {
   "cell_type": "markdown",
   "id": "elect-empty",
   "metadata": {},
   "source": [
    "## 7. Write a Python program to print a dictionary in table format.\n",
    "Click me to see the sample solution"
   ]
  },
  {
   "cell_type": "code",
   "execution_count": 16,
   "id": "marine-negotiation",
   "metadata": {},
   "outputs": [
    {
     "name": "stdout",
     "output_type": "stream",
     "text": [
      "C1 C2 C3\n",
      "1 5 9\n",
      "2 6 10\n",
      "3 7 11\n"
     ]
    }
   ],
   "source": [
    "my_dict = {'C1':[1,2,3],'C2':[5,6,7],'C3':[9,10,11]}\n",
    "for row in zip(*([key] + (value) for key, value in sorted(my_dict.items()))):\n",
    "    print(*row)"
   ]
  },
  {
   "cell_type": "markdown",
   "id": "present-boating",
   "metadata": {},
   "source": [
    "## 8. Write a Python program to count the values associated with key in a dictionary. \n",
    "Expected Output:\n",
    "6\n",
    "2"
   ]
  },
  {
   "cell_type": "code",
   "execution_count": 19,
   "id": "constitutional-behalf",
   "metadata": {},
   "outputs": [
    {
     "name": "stdout",
     "output_type": "stream",
     "text": [
      "6\n",
      "2\n"
     ]
    }
   ],
   "source": [
    "student = [{'id': 1, 'success': True, 'name': 'Lary'},\n",
    " {'id': 2, 'success': False, 'name': 'Rabi'},\n",
    " {'id': 3, 'success': True, 'name': 'Alex'}]\n",
    "print(sum(d['id'] for d in student))\n",
    "print(sum(d['success'] for d in student))"
   ]
  },
  {
   "cell_type": "code",
   "execution_count": 22,
   "id": "functional-hungarian",
   "metadata": {},
   "outputs": [
    {
     "name": "stdout",
     "output_type": "stream",
     "text": [
      "6\n",
      "2\n"
     ]
    }
   ],
   "source": [
    "alpha = [{'a':1,'b':1,'c':2},{'a':3,'b':0,'c':2},{'a':2,'b':1,'c':2}]\n",
    "print(sum(i['a'] for i in alpha))\n",
    "print(sum(i['b'] for i in alpha))"
   ]
  },
  {
   "cell_type": "markdown",
   "id": "level-participant",
   "metadata": {},
   "source": [
    "## 9. Write a Python program to convert a list into a nested dictionary of keys. "
   ]
  },
  {
   "cell_type": "code",
   "execution_count": 12,
   "id": "buried-ground",
   "metadata": {},
   "outputs": [
    {
     "name": "stdout",
     "output_type": "stream",
     "text": [
      "{1: {2: {3: {4: {5: {}}}}}}\n"
     ]
    }
   ],
   "source": [
    "List =[1,2,3,4,5]\n",
    "new_dict = dct = {}\n",
    "for i in List:\n",
    "    dct[i] = {}\n",
    "    dct = dct[i]\n",
    "print(new_dict)\n"
   ]
  },
  {
   "cell_type": "markdown",
   "id": "cleared-munich",
   "metadata": {},
   "source": [
    "## 10. Write a Python program to sort a list alphabetically in a dictionary. "
   ]
  },
  {
   "cell_type": "code",
   "execution_count": 8,
   "id": "equal-johnston",
   "metadata": {},
   "outputs": [
    {
     "name": "stdout",
     "output_type": "stream",
     "text": [
      "{'n1': [1, 2, 3], 'n2': [1, 2, 5], 'n3': [2, 3, 4]}\n"
     ]
    }
   ],
   "source": [
    "num = {'n1': [2, 3, 1], 'n2': [5, 1, 2], 'n3': [3, 2, 4]}\n",
    "sorted_dict = {x: sorted(y) for x, y in num.items()}\n",
    "print(sorted_dict)"
   ]
  },
  {
   "cell_type": "markdown",
   "id": "early-mitchell",
   "metadata": {},
   "source": [
    "## 11. Write a Python program to create a dictionary from two lists without losing duplicate values.\n",
    "Sample lists: ['Class-V', 'Class-VI', 'Class-VII', 'Class-VIII'], [1, 2, 2, 3]\n",
    "Expected Output: defaultdict(<class 'set'>, {'Class-V': {1}, 'Class-VI': {2}, 'Class-VII': {2}, 'Class-VIII': {3}})\n",
    " "
   ]
  },
  {
   "cell_type": "code",
   "execution_count": 74,
   "id": "blank-generic",
   "metadata": {},
   "outputs": [
    {
     "name": "stdout",
     "output_type": "stream",
     "text": [
      "{'Class-V': 3, 'Class-VI': 3, 'Class-VII': 3, 'Class-VIII': 3}\n"
     ]
    }
   ],
   "source": [
    "list1 = ['Class-V', 'Class-VI', 'Class-VII', 'Class-VIII']\n",
    "list2 = [1, 2, 2, 3]\n",
    "new = d = {}\n",
    "for i in list1:\n",
    "    for j in list2:\n",
    "        d[i]=j\n",
    "        \n",
    "print(new)"
   ]
  },
  {
   "cell_type": "code",
   "execution_count": 54,
   "id": "satisfactory-match",
   "metadata": {},
   "outputs": [
    {
     "name": "stdout",
     "output_type": "stream",
     "text": [
      "defaultdict(<class 'set'>, {'Class-V': {1}, 'Class-VI': {2}, 'Class-VII': {2}, 'Class-VIII': {3}})\n"
     ]
    }
   ],
   "source": [
    "from collections import defaultdict\n",
    "class_list = ['Class-V', 'Class-VI', 'Class-VII', 'Class-VIII']\n",
    "id_list = [1, 2, 2, 3]\n",
    "temp = defaultdict(set)\n",
    "for c, i in zip(class_list, id_list):\n",
    "    temp[c].add(i)\n",
    "print(temp)"
   ]
  },
  {
   "cell_type": "markdown",
   "id": "close-cartoon",
   "metadata": {},
   "source": [
    "## 12. Write a Python program to replace dictionary values with their average."
   ]
  },
  {
   "cell_type": "code",
   "execution_count": null,
   "id": "lined-treatment",
   "metadata": {},
   "outputs": [],
   "source": []
  },
  {
   "cell_type": "markdown",
   "id": "received-potter",
   "metadata": {},
   "source": [
    "# Task(5th june)"
   ]
  },
  {
   "cell_type": "markdown",
   "id": "driven-country",
   "metadata": {},
   "source": [
    "## sort this list of dictionary by year"
   ]
  },
  {
   "cell_type": "code",
   "execution_count": 62,
   "id": "extensive-metro",
   "metadata": {},
   "outputs": [
    {
     "name": "stdout",
     "output_type": "stream",
     "text": [
      "[{'car': 'Mitsubishi', 'year': 2000}, {'car': 'Ford', 'year': 2005}, {'car': 'VW', 'year': 2011}, {'car': 'BMW', 'year': 2019}]\n"
     ]
    }
   ],
   "source": [
    "### using sort\n",
    "\n",
    "def myFunc(e):\n",
    "  return e['year']\n",
    "\n",
    "cars = [\n",
    "  {'car': 'Ford', 'year': 2005},\n",
    "  {'car': 'Mitsubishi', 'year': 2000},\n",
    "  {'car': 'BMW', 'year': 2019},\n",
    "  {'car': 'VW', 'year': 2011}\n",
    "]\n",
    "\n",
    "cars.sort(key=myFunc)\n",
    "print(cars)"
   ]
  },
  {
   "cell_type": "code",
   "execution_count": 70,
   "id": "crude-poker",
   "metadata": {},
   "outputs": [
    {
     "name": "stdout",
     "output_type": "stream",
     "text": [
      "[{'car': 'BMW', 'year': 2019}, {'car': 'Ford', 'year': 2005}, {'car': 'Mitsubishi', 'year': 2000}, {'car': 'VW', 'year': 2011}]\n"
     ]
    }
   ],
   "source": [
    "##### using sorted\n",
    "\n",
    "cars = [\n",
    "  {'car': 'Ford', 'year': 2005},\n",
    "  {'car': 'Mitsubishi', 'year': 2000},\n",
    "  {'car': 'BMW', 'year': 2019},\n",
    "  {'car': 'VW', 'year': 2011}\n",
    "]\n",
    "\n",
    "print(sorted(cars,key=lambda i:(i['car'],i['year'])))\n"
   ]
  },
  {
   "cell_type": "code",
   "execution_count": 60,
   "id": "demanding-swift",
   "metadata": {},
   "outputs": [
    {
     "name": "stdout",
     "output_type": "stream",
     "text": [
      "[{'car': 'BMW', 'year': 2019}, {'car': 'Ford', 'year': 2005}, {'car': 'Mitsubishi', 'year': 2000}, {'car': 'VW', 'year': 2011}]\n"
     ]
    }
   ],
   "source": [
    "cars = [\n",
    "  {'car': 'Ford', 'year': 2005},\n",
    "  {'car': 'Mitsubishi', 'year': 2000},\n",
    "  {'car': 'BMW', 'year': 2019},\n",
    "  {'car': 'VW', 'year': 2011}\n",
    "]\n",
    "cars.sort(key=lambda x:x.get(\"car\",\"year\"))\n",
    "print(cars)"
   ]
  },
  {
   "cell_type": "markdown",
   "id": "broadband-probe",
   "metadata": {},
   "source": [
    "## cars = ['Ford', 'Mitsubishi', 'BMW', 'VW'] Sort this list by length of string. min to max"
   ]
  },
  {
   "cell_type": "code",
   "execution_count": 51,
   "id": "imported-tonight",
   "metadata": {},
   "outputs": [
    {
     "name": "stdout",
     "output_type": "stream",
     "text": [
      "['VW', 'BMW', 'Ford', 'Mitsubishi']\n"
     ]
    }
   ],
   "source": [
    "def len_sort(a):\n",
    "    n = len(a)\n",
    "    for i in range(n):\n",
    "        for j in range(i+1,n):\n",
    "            if len(a[i]) > len(a[j]):\n",
    "                temp = a[i]\n",
    "                a[i] = a[j]\n",
    "                a[j] = temp\n",
    "    return a\n",
    "print(len_sort(['Ford', 'Mitsubishi', 'BMW', 'VW']))"
   ]
  },
  {
   "cell_type": "code",
   "execution_count": 57,
   "id": "conservative-malawi",
   "metadata": {},
   "outputs": [
    {
     "name": "stdout",
     "output_type": "stream",
     "text": [
      "['VW', 'Mitsubishi', 'Ford', 'BMW']\n",
      "['VW', 'BMW', 'Mitsubishi', 'Ford']\n",
      "['VW', 'BMW', 'Ford', 'Mitsubishi']\n",
      "['VW', 'BMW', 'Ford', 'Mitsubishi']\n"
     ]
    }
   ],
   "source": [
    "ls = ['BMW', 'Mitsubishi', 'Ford', 'VW'] \n",
    "def sorto (lst2):\n",
    "    for i in range(len(lst2)):\n",
    "        for j in range(i+1,len(lst2)):\n",
    "            if len(lst2[i])> len(lst2[j]):\n",
    "                lst2[i],lst2[j] = lst2[j],lst2[i]\n",
    "        print(lst2)\n",
    "sorto(ls)"
   ]
  },
  {
   "cell_type": "code",
   "execution_count": 20,
   "id": "young-greek",
   "metadata": {},
   "outputs": [
    {
     "name": "stdout",
     "output_type": "stream",
     "text": [
      "['VW', 'BMW', 'Ford', 'Mitsubishi']\n"
     ]
    }
   ],
   "source": [
    "def myFunc(e):\n",
    "  return len(e)\n",
    "\n",
    "cars = ['Ford', 'Mitsubishi', 'BMW', 'VW']\n",
    "\n",
    "cars.sort(key=myFunc)\n",
    "\n",
    "print(cars)\n"
   ]
  },
  {
   "cell_type": "code",
   "execution_count": 81,
   "id": "streaming-church",
   "metadata": {},
   "outputs": [
    {
     "name": "stdout",
     "output_type": "stream",
     "text": [
      "[{'name': 'Nandini', 'age': 19}, {'name': 'Nikhil', 'age': 19}, {'name': 'Manjeet', 'age': 20}]\n",
      "[{'name': 'Nandini', 'age': 19}, {'name': 'Manjeet', 'age': 20}, {'name': 'Nikhil', 'age': 19}]\n",
      "[{'name': 'Nandini', 'age': 19}, {'name': 'Nikhil', 'age': 19}, {'name': 'Manjeet', 'age': 20}]\n"
     ]
    }
   ],
   "source": [
    "person = [{ \"name\" : \"Nandini\", \"age\" : 19},\n",
    "{ \"name\" : \"Manjeet\", \"age\" : 20 },\n",
    "{ \"name\" : \"Nikhil\" , \"age\" : 19 }]\n",
    "\n",
    "\n",
    "s1 = (sorted(person,key = lambda x:(x[\"age\"],x[\"name\"])))\n",
    "print(\"after uss1)\n",
    "print (person)\n",
    "\n",
    "person.sort(key = lambda x:x.get(\"age\",\"name\"))\n",
    "print (person)\n"
   ]
  },
  {
   "cell_type": "code",
   "execution_count": null,
   "id": "verified-worth",
   "metadata": {},
   "outputs": [],
   "source": []
  }
 ],
 "metadata": {
  "kernelspec": {
   "display_name": "Python 3",
   "language": "python",
   "name": "python3"
  },
  "language_info": {
   "codemirror_mode": {
    "name": "ipython",
    "version": 3
   },
   "file_extension": ".py",
   "mimetype": "text/x-python",
   "name": "python",
   "nbconvert_exporter": "python",
   "pygments_lexer": "ipython3",
   "version": "3.7.4"
  }
 },
 "nbformat": 4,
 "nbformat_minor": 5
}
